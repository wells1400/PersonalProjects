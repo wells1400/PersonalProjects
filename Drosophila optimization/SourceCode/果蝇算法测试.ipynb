{
 "cells": [
  {
   "cell_type": "code",
   "execution_count": 2,
   "metadata": {
    "collapsed": true,
    "pycharm": {
     "is_executing": false
    }
   },
   "outputs": [],
   "source": [
    "import numpy as np\n",
    "import os"
   ]
  },
  {
   "cell_type": "code",
   "execution_count": 113,
   "outputs": [],
   "source": [
    "class DataLoader:\n",
    "    def __init__(self, root_path=r'E:\\OfficialWorkRemote\\OfficialWork\\SIOA\\Drosophila optimization\\SourceData\\data_file\\\\'):\n",
    "        self.file_path_container = [root_path + file_path for file_path in os.listdir(root_path)]\n",
    "        \n",
    "        self.num_mac_container = []\n",
    "        self.num_task_container = []\n",
    "        self.cost_container = []\n",
    "        self.source_cost_container = []\n",
    "        self.source_container = []\n",
    "        \n",
    "        # 数据处理主程序\n",
    "        self.file_process()\n",
    "        \n",
    "    def file_read(self, file_path):\n",
    "        tmp_container = []\n",
    "        num_macs = 0\n",
    "        cost__flag = True\n",
    "        with open(file_path, 'r') as f:\n",
    "            for line in f:\n",
    "                line = line.strip()\n",
    "                split_line = line.split(' ')\n",
    "                if len(split_line) < 2:\n",
    "                    continue\n",
    "                if len(split_line) == 2:\n",
    "                    self.num_mac_container.append(split_line[0])\n",
    "                    self.num_task_container.append(split_line[1])\n",
    "                    num_macs = int(split_line[0])\n",
    "                    continue\n",
    "                if len(split_line) != num_macs:\n",
    "                    tmp_container.append(split_line)\n",
    "                    if len(tmp_container)>=num_macs:\n",
    "                        if cost__flag:\n",
    "                            self.cost_container.append(tmp_container)\n",
    "                            cost__flag = False\n",
    "                            tmp_container = []\n",
    "                            continue\n",
    "                        self.source_cost_container.append(tmp_container)\n",
    "                        cost__flag = True\n",
    "                        tmp_container = []\n",
    "                    continue\n",
    "                if len(split_line) == num_macs:\n",
    "                    self.source_container.append(split_line)\n",
    "                    \n",
    "    def file_process(self):\n",
    "        for file_path in self.file_path_container:\n",
    "            self.file_read(file_path)\n",
    "        #self.format_process()\n",
    "            \n",
    "    def format_process(self):\n",
    "        self.num_mac_container = np.array(self.num_mac_container).astype(int).tolist()\n",
    "        self.num_task_container = np.array(self.num_task_container).astype(int).tolist()\n",
    "        self.cost_container = [np.array(val).astype(int).tolist() for val in self.cost_container]\n",
    "        self.source_cost_container = [np.array(val).astype(int).tolist() for val in self.source_cost_container]\n",
    "        self.source_container = [np.array(val).astype(int).tolist() for val in self.source_container]\n",
    "        \n",
    "    def get_data_len(self):\n",
    "        return len(self.num_task_container)\n",
    "    \n",
    "    # 输入要获取的数据index 返回数据（dic形式）\n",
    "    def data_generator(self, index):\n",
    "        res_dic = {'mac':self.num_mac_container[index],\n",
    "                   'task':self.num_task_container[index],\n",
    "                   'cost':self.cost_container[index],\n",
    "                   'source_cost':self.source_cost_container[index],\n",
    "                   'source':self.source_container[index]\n",
    "                   }\n",
    "        return res_dic"
   ],
   "metadata": {
    "collapsed": false,
    "pycharm": {
     "name": "#%%\n",
     "is_executing": false
    }
   }
  },
  {
   "cell_type": "code",
   "execution_count": 114,
   "outputs": [],
   "source": [
    "root_path=r'E:\\OfficialWorkRemote\\OfficialWork\\SIOA\\Drosophila optimization\\SourceData\\data_file\\\\'\n",
    "data_loader = DataLoader(root_path=root_path)"
   ],
   "metadata": {
    "collapsed": false,
    "pycharm": {
     "name": "#%%\n",
     "is_executing": false
    }
   }
  }
 ],
 "metadata": {
  "language_info": {
   "codemirror_mode": {
    "name": "ipython",
    "version": 2
   },
   "file_extension": ".py",
   "mimetype": "text/x-python",
   "name": "python",
   "nbconvert_exporter": "python",
   "pygments_lexer": "ipython2",
   "version": "2.7.6"
  },
  "kernelspec": {
   "name": "python3",
   "language": "python",
   "display_name": "Python 3"
  },
  "pycharm": {
   "stem_cell": {
    "cell_type": "raw",
    "source": [],
    "metadata": {
     "collapsed": false
    }
   }
  }
 },
 "nbformat": 4,
 "nbformat_minor": 0
}