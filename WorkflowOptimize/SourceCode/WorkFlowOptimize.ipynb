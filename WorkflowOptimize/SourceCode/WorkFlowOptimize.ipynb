{
 "cells": [
  {
   "cell_type": "code",
   "execution_count": 1,
   "metadata": {
    "pycharm": {
     "is_executing": false
    }
   },
   "outputs": [],
   "source": [
    "import numpy as np\n",
    "import pandas as pd\n",
    "import copy\n",
    "import matplotlib.pyplot as plt"
   ]
  },
  {
   "cell_type": "code",
   "execution_count": 2,
   "metadata": {},
   "outputs": [],
   "source": [
    "class HomeDataInitializer:\n",
    "    def __init__(self,\n",
    "                 device_info=r'E:\\OfficialWorkRemote\\OfficialWork\\SIOA\\WorkflowOptimize\\SourceData\\DeviceInfo.csv',\n",
    "                 external_info=r'E:\\OfficialWorkRemote\\OfficialWork\\SIOA\\WorkflowOptimize\\SourceData\\ExternalInfo.csv'):\n",
    "        self.device_pd = pd.read_csv(device_info)\n",
    "        self.external_pd = pd.read_csv(external_info)\n",
    "\n",
    "\n",
    "class SimuAnneal:\n",
    "    def __init__(self, device_pd, external_dic, max_temperature=100, min_temperature=25,\n",
    "                 cooling_alpha=0.95, iter_round=1000, search_step=2, inner_loop_round=100, day_index=0):\n",
    "        self.device_pd = device_pd\n",
    "        # device相关信息\n",
    "        self.device_u = self.device_pd['UserPresence']\n",
    "        self.device_e = self.device_pd['EnergyCost']\n",
    "        self.device_t = self.device_pd['Tidiness']\n",
    "        # external相关信息\n",
    "        self.external_u = external_dic['UserPresence']\n",
    "        self.external_epr = external_dic['EnergyCost']\n",
    "        self.external_thr = external_dic['Threshold']\n",
    "\n",
    "        # 退火算法相关参数\n",
    "        self.temperature_pos = max_temperature  # 当前温度\n",
    "        self.max_temperature = max_temperature  # 最大温度\n",
    "        self.min_temperature = min_temperature  # 停止迭代时的最小温度\n",
    "        self.cooling_alpha = cooling_alpha  # 降温系数\n",
    "        self.iter_round = iter_round  # 最大迭代次数\n",
    "        self.search_step = search_step  # 搜索步长\n",
    "        self.iter_round_local = 0  # 当前迭代次数\n",
    "        self.inner_loop_round = inner_loop_round\n",
    "\n",
    "        # 计算适应度的三个系数\n",
    "        self.omega_1 = 1\n",
    "        self.omega_2 = 1\n",
    "        self.omega_3 = 1\n",
    "        # 初始解(invalid的device就是0)\n",
    "        self.solution_pos = self.solution_init()\n",
    "        self.best_solution = self.solution_pos\n",
    "        self.best_solution_fitness_val = self.evaluate_fitness(self.best_solution)\n",
    "\n",
    "        # 迭代记录\n",
    "        self.best_solution_iter = [self.best_solution]\n",
    "        self.best_solution_fitness_iter = [self.best_solution_fitness_val]\n",
    "        self.day_index = day_index\n",
    "\n",
    "    # 判断设备是否失效，输入device index\n",
    "    def device_invalid(self, device_index):\n",
    "        return self.device_u[device_index] == 1 and self.external_u == 0\n",
    "\n",
    "    # 随机初始化解\n",
    "    def solution_init(self):\n",
    "        solution_pos = [0 for _ in range(self.device_pd.shape[0])]\n",
    "        while True:\n",
    "            if np.array(solution_pos).sum() != 0:\n",
    "                break\n",
    "            for pos_index in range(len(solution_pos)):\n",
    "                if self.device_invalid(pos_index):\n",
    "                    continue\n",
    "                rand_num = np.random.randint(0, 2)\n",
    "                solution_pos[pos_index] = rand_num\n",
    "        return solution_pos\n",
    "\n",
    "    # 输入solution_list，计算适应度值（需要保证输入的solution_list不全为0）\n",
    "    def evaluate_fitness(self, solution_list):\n",
    "        u_flow = 0\n",
    "        e_flow = 0\n",
    "        t_flow = 0\n",
    "        device_num = 0\n",
    "        for device_index in range(len(solution_list)):\n",
    "            if solution_list[device_index] == 1:\n",
    "                device_num += 1\n",
    "                u_flow += self.device_u[device_index]\n",
    "                e_flow += self.device_e[device_index]\n",
    "                t_flow += self.device_t[device_index]\n",
    "        u_flow = u_flow / device_num\n",
    "        f1 = 1 - np.abs(self.external_u - u_flow)\n",
    "        f3 = t_flow\n",
    "        f2 = 0\n",
    "        if self.external_epr * e_flow < self.external_thr:\n",
    "            f2 = 1 - self.external_epr * e_flow / self.external_thr\n",
    "        return (self.omega_1 * f1 + self.omega_2 * f2 + self.omega_3 * f3) / (\n",
    "                    self.omega_1 + self.omega_2 + self.omega_3)\n",
    "\n",
    "    # 在当前解周围随机产生新解,搜索步长就是随机挑选若干个位置的有效设备，如果是0则变成1，如果是1则变成0\n",
    "    def generate_solution(self):\n",
    "        new_solution = self.solution_pos.copy()\n",
    "        step_recrd = self.search_step\n",
    "        while True:\n",
    "            if step_recrd <= 0 and np.array(new_solution).sum() != 0:\n",
    "                break\n",
    "            rd_point = np.random.randint(0, len(new_solution))\n",
    "            if not self.device_invalid(rd_point):\n",
    "                new_solution[rd_point] = 0 if new_solution[rd_point] == 1 else 1\n",
    "                step_recrd -= 1\n",
    "        return new_solution\n",
    "\n",
    "    # 迭代停止控制\n",
    "    def stop_control(self):\n",
    "        return self.iter_round_local >= self.iter_round or self.temperature_pos <= self.min_temperature\n",
    "\n",
    "    # 更新最优解\n",
    "    def update_best_solution(self, new_solution, new_solution_func_val):\n",
    "        if new_solution_func_val > self.best_solution_fitness_val:\n",
    "            self.best_solution = copy.deepcopy(new_solution)\n",
    "            self.best_solution_fitness_val = new_solution_func_val\n",
    "\n",
    "    # 迭代记录\n",
    "    def iter_record(self):\n",
    "        self.best_solution_iter.append(self.best_solution)\n",
    "        self.best_solution_fitness_iter.append(self.best_solution_fitness_val)\n",
    "        pass\n",
    "\n",
    "    # 当前温度水平下的内部循环调整寻优过程\n",
    "    def inner_loop(self):\n",
    "        for _ in range(self.inner_loop_round):\n",
    "            if self.stop_control():\n",
    "                break\n",
    "            # 在当前解的基础上左右随机搜索产生新解\n",
    "            new_solution = self.generate_solution()\n",
    "            new_solution_fitness_val = self.evaluate_fitness(new_solution)\n",
    "            # 计算旧解的适应度值\n",
    "            local_solution_fitness_val = self.evaluate_fitness(self.solution_pos)\n",
    "            dE = local_solution_fitness_val - new_solution_fitness_val\n",
    "            if dE <= 0:\n",
    "                # 新解更优，接受新解\n",
    "                self.solution_pos = new_solution\n",
    "                # 看是否能够更新最优解\n",
    "                self.update_best_solution(new_solution, new_solution_fitness_val)\n",
    "            else:\n",
    "                # 新解比较差，一定给定概率接受新解\n",
    "                rand_point = np.random.rand()\n",
    "                if rand_point <= np.exp(-dE / self.temperature_pos):\n",
    "                    self.solution_pos = new_solution\n",
    "            # 记录最优解、最优解的函数值随迭代过程的变化\n",
    "            self.iter_record()\n",
    "            # 迭代计数加一\n",
    "            self.iter_round_local += 1\n",
    "\n",
    "    # 绘制最优解和最优解的函数值随迭代而变化的过程\n",
    "    def plot_iter(self, pic_save_dir):\n",
    "        x = [iter_i for iter_i in range(1, len(self.best_solution_iter) + 1)]\n",
    "        plt.plot(x, self.best_solution_fitness_iter, label='best fitness')\n",
    "        plt.xlabel(r'iter_round')\n",
    "        plt.ylabel('best fitness')\n",
    "        plt.savefig(pic_save_dir + r'/SimulatedAnneal_day_%s.png'%self.day_index)\n",
    "        plt.show()\n",
    "\n",
    "    # 程序运行主程\n",
    "    def simulate_anneal_engine(self, pic_save_dir):\n",
    "        while not self.stop_control():\n",
    "            # 内循环\n",
    "            self.inner_loop()\n",
    "            # 一次降温\n",
    "            self.temperature_pos = self.temperature_pos * self.cooling_alpha\n",
    "        print('Simulated Anneal(day %s):'%self.day_index)\n",
    "        print('Solution :', self.best_solution)\n",
    "        print('Utility of solution:', self.best_solution_fitness_val)\n",
    "        print('\\n')\n",
    "        return self.plot_iter(pic_save_dir)"
   ]
  },
  {
   "cell_type": "code",
   "execution_count": 3,
   "metadata": {
    "pycharm": {
     "is_executing": false,
     "name": "#%%\n"
    }
   },
   "outputs": [
    {
     "name": "stdout",
     "output_type": "stream",
     "text": [
      "Simulated Anneal(day 1):\n",
      "Solution : [0, 0, 0, 1]\n",
      "Utility of solution: 0.765\n",
      "\n",
      "\n"
     ]
    },
    {
     "data": {
      "image/png": "[encoded data removed]",
      "text/plain": [
       "<Figure size 432x288 with 1 Axes>"
      ]
     },
     "metadata": {
      "needs_background": "light"
     },
     "output_type": "display_data"
    },
    {
     "name": "stdout",
     "output_type": "stream",
     "text": [
      "Simulated Anneal(day 2):\n",
      "Solution : [0, 0, 1, 0]\n",
      "Utility of solution: 0.6494444444444445\n",
      "\n",
      "\n"
     ]
    },
    {
     "data": {
      "image/png": "[encoded data removed]",
      "text/plain": [
       "<Figure size 432x288 with 1 Axes>"
      ]
     },
     "metadata": {
      "needs_background": "light"
     },
     "output_type": "display_data"
    },
    {
     "name": "stdout",
     "output_type": "stream",
     "text": [
      "Simulated Anneal(day 3):\n",
      "Solution : [0, 0, 1, 0]\n",
      "Utility of solution: 0.5266666666666667\n",
      "\n",
      "\n"
     ]
    },
    {
     "data": {
      "image/png": "[encoded data removed]",
      "text/plain": [
       "<Figure size 432x288 with 1 Axes>"
      ]
     },
     "metadata": {
      "needs_background": "light"
     },
     "output_type": "display_data"
    },
    {
     "name": "stdout",
     "output_type": "stream",
     "text": [
      "Simulated Anneal(day 4):\n",
      "Solution : [1, 1, 0, 1]\n",
      "Utility of solution: 0.88\n",
      "\n",
      "\n"
     ]
    },
    {
     "data": {
      "image/png": "[encoded data removed]",
      "text/plain": [
       "<Figure size 432x288 with 1 Axes>"
      ]
     },
     "metadata": {
      "needs_background": "light"
     },
     "output_type": "display_data"
    }
   ],
   "source": [
    "# 进行测试\n",
    "home_initialize = HomeDataInitializer(\n",
    "        device_info=r'/home/wells/Wells/OfficialWork/SIOA/WorkflowOptimize/SourceData/DeviceInfo.csv',\n",
    "        external_info=r'/home/wells/Wells/OfficialWork/SIOA/WorkflowOptimize/SourceData/ExternalInfo.csv')\n",
    "for day_index in range(home_initialize.external_pd.shape[0]):\n",
    "    external_dic = {'UserPresence': home_initialize.external_pd.loc[day_index, 'UserPresence'],\n",
    "                    'EnergyCost': home_initialize.external_pd.loc[day_index, 'EnergyCost'],\n",
    "                    'Threshold': home_initialize.external_pd.loc[day_index, 'Threshold']}\n",
    "    anneal = SimuAnneal(home_initialize.device_pd, external_dic,\n",
    "                        max_temperature=100, min_temperature=25,\n",
    "                        cooling_alpha=0.95, iter_round=100,\n",
    "                        search_step=2, inner_loop_round=20,day_index=day_index+1)\n",
    "    anneal.simulate_anneal_engine(pic_save_dir=r'/home/wells/Wells/OfficialWork/SIOA/WorkflowOptimize/PicSaveDir')"
   ]
  },
  {
   "cell_type": "code",
   "execution_count": null,
   "metadata": {},
   "outputs": [],
   "source": []
  }
 ],
 "metadata": {
  "kernelspec": {
   "display_name": "Python 3",
   "language": "python",
   "name": "python3"
  },
  "language_info": {
   "codemirror_mode": {
    "name": "ipython",
    "version": 3
   },
   "file_extension": ".py",
   "mimetype": "text/x-python",
   "name": "python",
   "nbconvert_exporter": "python",
   "pygments_lexer": "ipython3",
   "version": "3.7.3"
  },
  "pycharm": {
   "stem_cell": {
    "cell_type": "raw",
    "metadata": {
     "collapsed": false
    },
    "source": []
   }
  }
 },
 "nbformat": 4,
 "nbformat_minor": 1
}
