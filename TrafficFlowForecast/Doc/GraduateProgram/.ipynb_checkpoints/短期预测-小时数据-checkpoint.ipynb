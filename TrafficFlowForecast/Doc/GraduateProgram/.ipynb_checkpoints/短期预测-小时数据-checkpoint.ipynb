{
 "cells": [
  {
   "cell_type": "code",
   "execution_count": 1,
   "metadata": {},
   "outputs": [
    {
     "name": "stderr",
     "output_type": "stream",
     "text": [
      "Using TensorFlow backend.\n"
     ]
    }
   ],
   "source": [
    "import numpy as np\n",
    "import pandas as pd\n",
    "import datetime\n",
    "import os\n",
    "\n",
    "from DP_LSTM import *\n",
    "from keras.models import load_model\n",
    "from pandas.tools.plotting import autocorrelation_plot\n",
    "from sklearn.preprocessing import MinMaxScaler\n",
    "from Plot_Self_Correlation import plot_auto_corr\n",
    "\n",
    "from matplotlib import pyplot as plt"
   ]
  },
  {
   "cell_type": "code",
   "execution_count": null,
   "metadata": {},
   "outputs": [],
   "source": [
    "def walkfiles(rootdir): # 返回file路径的list\n",
    "    flist = os.listdir(rootdir) #列出文件夹下所有的目录与文件\n",
    "    pathContainer = []\n",
    "    filenameContainer = []\n",
    "    for i in range(0,len(flist)):\n",
    "        path = os.path.join(rootdir,flist[i])\n",
    "        if os.path.isfile(path):\n",
    "            pathContainer.append(path)\n",
    "            filenameContainer.append(flist[i])\n",
    "    return pathContainer,filenameContainer\n",
    "\n",
    "rootdir = r'D:\\WORK__wells\\GraduateProgram\\Data\\TimeSeries'\n",
    "pathContainer,filenameContainer = walkfiles(rootdir)"
   ]
  }
 ],
 "metadata": {
  "kernelspec": {
   "display_name": "Python 3",
   "language": "python",
   "name": "python3"
  },
  "language_info": {
   "codemirror_mode": {
    "name": "ipython",
    "version": 3
   },
   "file_extension": ".py",
   "mimetype": "text/x-python",
   "name": "python",
   "nbconvert_exporter": "python",
   "pygments_lexer": "ipython3",
   "version": "3.7.3"
  }
 },
 "nbformat": 4,
 "nbformat_minor": 2
}
