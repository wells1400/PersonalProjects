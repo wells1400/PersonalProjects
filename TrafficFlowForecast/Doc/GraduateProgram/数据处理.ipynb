{
 "cells": [
  {
   "cell_type": "code",
   "execution_count": 1,
   "metadata": {},
   "outputs": [],
   "source": [
    "import numpy as np\n",
    "import pandas as pd"
   ]
  },
  {
   "cell_type": "code",
   "execution_count": 34,
   "metadata": {},
   "outputs": [],
   "source": [
    "data0_pd = pd.read_csv(r'D:\\WORK__wells\\GraduateProgram\\Data\\DAT_ASCII_USDJPY_M1_2016.csv',delimiter=r';',header=None)\n",
    "data0_pd.columns = ['Ftr' + str(i) for i in range(data0_pd.shape[1])]\n",
    "\n",
    "data1_pd = pd.read_csv(r'D:\\WORK__wells\\GraduateProgram\\Data\\DAT_ASCII_USDJPY_M1_2017.csv',delimiter=r';',header=None)\n",
    "data1_pd.columns = ['Ftr' + str(i) for i in range(data1_pd.shape[1])]"
   ]
  },
  {
   "cell_type": "code",
   "execution_count": 35,
   "metadata": {},
   "outputs": [],
   "source": [
    "data_pd = pd.concat([data0_pd, data1_pd],axis=0)\n",
    "data_pd = data_pd.drop(['Ftr5'],axis=1)"
   ]
  },
  {
   "cell_type": "code",
   "execution_count": 36,
   "metadata": {},
   "outputs": [],
   "source": [
    "data_pd.to_csv(r'D:\\WORK__wells\\GraduateProgram\\Data\\USDJPY.csv',index=None)"
   ]
  }
 ],
 "metadata": {
  "kernelspec": {
   "display_name": "Python 3",
   "language": "python",
   "name": "python3"
  },
  "language_info": {
   "codemirror_mode": {
    "name": "ipython",
    "version": 3
   },
   "file_extension": ".py",
   "mimetype": "text/x-python",
   "name": "python",
   "nbconvert_exporter": "python",
   "pygments_lexer": "ipython3",
   "version": "3.6.7"
  }
 },
 "nbformat": 4,
 "nbformat_minor": 2
}
