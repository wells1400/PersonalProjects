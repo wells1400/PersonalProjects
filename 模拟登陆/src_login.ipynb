{
 "cells": [
  {
   "cell_type": "code",
   "execution_count": 4,
   "metadata": {
    "collapsed": true,
    "pycharm": {
     "is_executing": false
    }
   },
   "outputs": [],
   "source": [
    "import requests\n",
    "import numpy as np\n",
    "import pandas as pd\n",
    "from selenium import webdriver"
   ]
  },
  {
   "cell_type": "code",
   "execution_count": 2,
   "outputs": [],
   "source": [
    "login_url = r'https://mxiaoyuan.zhaopin.com/signin/login'\n",
    "register_url = r'https://mxiaoyuan.zhaopin.com/signin/register'\n",
    "driver= webdriver.Chrome()\n",
    "driver.get(register_url)"
   ],
   "metadata": {
    "collapsed": false,
    "pycharm": {
     "name": "#%%\n",
     "is_executing": false
    }
   }
  },
  {
   "cell_type": "code",
   "execution_count": null,
   "outputs": [],
   "source": [
    "input_phone = driver.find_element_by_id('phoneInput') #获取电话号码输入框\n",
    "smsKeyButton = driver.find_element_by_id('indentify') # 获取验证码button\n",
    "input_smsKey = driver.find_element_by_id('indentifyInput') # 获取验证码输入框\n",
    "\n",
    "input_phone.send_keys(\"15302787958\") #输入框输入\"Python\"\n",
    "smsKeyButton.click()"
   ],
   "metadata": {
    "collapsed": false,
    "pycharm": {
     "name": "#%%\n"
    }
   }
  },
  {
   "cell_type": "code",
   "execution_count": null,
   "outputs": [],
   "source": [
    "input_smsKey.send_keys(\"101242\") #搜索\n",
    "\n"
   ],
   "metadata": {
    "collapsed": false,
    "pycharm": {
     "name": "#%%\n"
    }
   }
  },
  {
   "cell_type": "code",
   "execution_count": 13,
   "outputs": [],
   "source": [
    "# 读取信息文件\n",
    "data_pd = pd.read_excel(r'E:\\PersonalProjects\\模拟登陆\\UserInfo\\UserId.xlsx')\n"
   ],
   "metadata": {
    "collapsed": false,
    "pycharm": {
     "name": "#%%\n",
     "is_executing": false
    }
   }
  },
  {
   "cell_type": "code",
   "execution_count": 14,
   "outputs": [
    {
     "data": {
      "text/plain": "  name                  ID\n0  徐腊云  430624197212089744\n1  李新平  430624197009307718\n2  龚开咏  422223196809216010\n3   陈秀  420922196712180066\n4   朱奇  420114199601211210\n5   安宇  210103195606100345\n6   徐放  210103199411060310\n7   罗茜  42011619950901492x",
      "text/html": "<div>\n<style scoped>\n    .dataframe tbody tr th:only-of-type {\n        vertical-align: middle;\n    }\n\n    .dataframe tbody tr th {\n        vertical-align: top;\n    }\n\n    .dataframe thead th {\n        text-align: right;\n    }\n</style>\n<table border=\"1\" class=\"dataframe\">\n  <thead>\n    <tr style=\"text-align: right;\">\n      <th></th>\n      <th>name</th>\n      <th>ID</th>\n    </tr>\n  </thead>\n  <tbody>\n    <tr>\n      <td>0</td>\n      <td>徐腊云</td>\n      <td>430624197212089744</td>\n    </tr>\n    <tr>\n      <td>1</td>\n      <td>李新平</td>\n      <td>430624197009307718</td>\n    </tr>\n    <tr>\n      <td>2</td>\n      <td>龚开咏</td>\n      <td>422223196809216010</td>\n    </tr>\n    <tr>\n      <td>3</td>\n      <td>陈秀</td>\n      <td>420922196712180066</td>\n    </tr>\n    <tr>\n      <td>4</td>\n      <td>朱奇</td>\n      <td>420114199601211210</td>\n    </tr>\n    <tr>\n      <td>5</td>\n      <td>安宇</td>\n      <td>210103195606100345</td>\n    </tr>\n    <tr>\n      <td>6</td>\n      <td>徐放</td>\n      <td>210103199411060310</td>\n    </tr>\n    <tr>\n      <td>7</td>\n      <td>罗茜</td>\n      <td>42011619950901492x</td>\n    </tr>\n  </tbody>\n</table>\n</div>"
     },
     "metadata": {},
     "output_type": "execute_result",
     "execution_count": 14
    }
   ],
   "source": [
    "data_pd\n",
    "\n"
   ],
   "metadata": {
    "collapsed": false,
    "pycharm": {
     "name": "#%%\n",
     "is_executing": false
    }
   }
  },
  {
   "cell_type": "code",
   "execution_count": null,
   "outputs": [],
   "source": [
    "# 获取手机号\n",
    "def get_vrfPhone():\n",
    "    \n",
    "    pass\n",
    "# 输入手机号 获取验证码\n",
    "def get_vrfCode():\n",
    "    \n",
    "    pass\n",
    "\n",
    "# 注册流程\n",
    "def get_regis(register_url, phone):\n",
    "    \n",
    "\n"
   ],
   "metadata": {
    "collapsed": false,
    "pycharm": {
     "name": "#%%\n"
    }
   }
  }
 ],
 "metadata": {
  "language_info": {
   "codemirror_mode": {
    "name": "ipython",
    "version": 2
   },
   "file_extension": ".py",
   "mimetype": "text/x-python",
   "name": "python",
   "nbconvert_exporter": "python",
   "pygments_lexer": "ipython2",
   "version": "2.7.6"
  },
  "kernelspec": {
   "name": "python3",
   "language": "python",
   "display_name": "Python 3"
  },
  "pycharm": {
   "stem_cell": {
    "cell_type": "raw",
    "source": [],
    "metadata": {
     "collapsed": false
    }
   }
  }
 },
 "nbformat": 4,
 "nbformat_minor": 0
}