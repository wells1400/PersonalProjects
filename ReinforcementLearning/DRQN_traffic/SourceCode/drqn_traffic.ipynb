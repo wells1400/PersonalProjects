{
 "cells": [
  {
   "cell_type": "code",
   "execution_count": 5,
   "metadata": {
    "collapsed": true,
    "pycharm": {
     "is_executing": false
    }
   },
   "outputs": [],
   "source": [
    "import numpy as np\n",
    "import pandas as pd\n",
    "import random\n",
    "import tensorflow.compat.v1 as tf\n",
    "tf.disable_v2_behavior()\n",
    "\n",
    "np.random.seed(1)\n",
    "tf.set_random_seed(1)"
   ]
  },
  {
   "cell_type": "code",
   "execution_count": 6,
   "outputs": [],
   "source": [
    "# 数据处理\n",
    "class DataProcess:\n",
    "    def __init__(self, data_path):\n",
    "        self.data_path = data_path\n",
    "        # 分割数据\n",
    "        self.data_split()\n",
    "    \n",
    "    def data_split(self):\n",
    "        data_pd = pd.read_csv(self.data_path, encoding='gbk')\n",
    "        data_pd = data_pd.iloc[:, 1:]\n",
    "        data_pd = data_pd.rename({'实际时间':'actual_time','速度':'speed',\n",
    "                              '延迟时间':'delay_time','行程时间':'road_time',\n",
    "                              '气温':'temperature','降水概率':'rain_prob'}, axis=1)\n",
    "        if not hasattr(self, 'trian_pd'):\n",
    "            self.trian_pd = data_pd.loc[:1500,:]\n",
    "        if not hasattr(self, 'test_pd'):\n",
    "            self.test_pd = data_pd.loc[1500:,:]\n",
    "            \n",
    "class TrafficEnvironment(DataProcess):\n",
    "    def __init__(self, data_path):\n",
    "        \n",
    "        DataProcess.__init__(self, data_path=data_path)\n",
    "    \n",
    "    # 环境模式\n",
    "    def reset_mode(self, mode='train'):\n",
    "        if not hasattr(self, 'mode'):\n",
    "            self.mode = mode\n",
    "        self.mode = mode\n",
    "    \n",
    "    # 将行为转化成0-1字符串\n",
    "    def action_decode(self, a):\n",
    "        \n",
    "        pass\n",
    "    \n",
    "    # 环境交互函数\n",
    "    # 输入状态s、行为，输出s,a,reward和s_,如果找不到满足条件的reward和s_则返回空[]\n",
    "    def env_backward(self, s, a):\n",
    "        # 获取数据池\n",
    "        data_pd = self.trian_pd if self.mode=='trian' else self.test_pd\n",
    "        action_feature = [0 for _ in range(data_pd.shape[1])]\n",
    "        \n",
    "        decoded_str = bin(a).replace('0b','')\n",
    "        for val in decoded_str:\n",
    "            val_int = int(val)\n",
    "            action_feature.append(val_int)\n",
    "        # 表征行为的向量\n",
    "        action_vector = action_feature[-self.trian_pd.shape[1]:]\n",
    "        col_labels = self.trian_pd.columns.tolist()\n",
    "        # 按照条件逐步筛选s_\n",
    "        selected_pd = data_pd\n",
    "        for filter_index in range(len(action_vector)):\n",
    "            if action_vector[filter_index] == 1:\n",
    "                selected_pd = selected_pd.loc[selected_pd[col_labels[filter_index]] >= s[filter_index]]\n",
    "            else:\n",
    "                selected_pd = selected_pd.loc[selected_pd[col_labels[filter_index]] < s[filter_index]]\n",
    "            if selected_pd.shape[0] == 0:\n",
    "                return []\n",
    "        s_ = random.choice(selected_pd.get_values()).tolist()\n",
    "        reward = s[1] - s_[1]\n",
    "        return s,a,reward,s_\n",
    "    \n",
    "    "
   ],
   "metadata": {
    "collapsed": false,
    "pycharm": {
     "name": "#%%\n",
     "is_executing": false
    }
   }
  },
  {
   "cell_type": "code",
   "execution_count": 8,
   "outputs": [
    {
     "data": {
      "text/plain": "      speed  delay_time  road_time  temperature  rain_prob\n0      61.0         2.1       16.2           18       0.20\n1      61.0         2.1       16.2           18       0.20\n2      62.7         1.7       15.8           18       0.20\n3      62.7         1.7       15.8           18       0.20\n4      61.7         1.9       16.0           18       0.20\n...     ...         ...        ...          ...        ...\n1496   62.2         1.8       15.9           24       0.07\n1497   62.2         1.8       15.9           24       0.07\n1498   58.1         2.9       17.0           24       0.07\n1499   58.1         2.9       17.0           24       0.07\n1500   56.4         3.4       17.5           25       0.07\n\n[1501 rows x 5 columns]",
      "text/html": "<div>\n<style scoped>\n    .dataframe tbody tr th:only-of-type {\n        vertical-align: middle;\n    }\n\n    .dataframe tbody tr th {\n        vertical-align: top;\n    }\n\n    .dataframe thead th {\n        text-align: right;\n    }\n</style>\n<table border=\"1\" class=\"dataframe\">\n  <thead>\n    <tr style=\"text-align: right;\">\n      <th></th>\n      <th>speed</th>\n      <th>delay_time</th>\n      <th>road_time</th>\n      <th>temperature</th>\n      <th>rain_prob</th>\n    </tr>\n  </thead>\n  <tbody>\n    <tr>\n      <td>0</td>\n      <td>61.0</td>\n      <td>2.1</td>\n      <td>16.2</td>\n      <td>18</td>\n      <td>0.20</td>\n    </tr>\n    <tr>\n      <td>1</td>\n      <td>61.0</td>\n      <td>2.1</td>\n      <td>16.2</td>\n      <td>18</td>\n      <td>0.20</td>\n    </tr>\n    <tr>\n      <td>2</td>\n      <td>62.7</td>\n      <td>1.7</td>\n      <td>15.8</td>\n      <td>18</td>\n      <td>0.20</td>\n    </tr>\n    <tr>\n      <td>3</td>\n      <td>62.7</td>\n      <td>1.7</td>\n      <td>15.8</td>\n      <td>18</td>\n      <td>0.20</td>\n    </tr>\n    <tr>\n      <td>4</td>\n      <td>61.7</td>\n      <td>1.9</td>\n      <td>16.0</td>\n      <td>18</td>\n      <td>0.20</td>\n    </tr>\n    <tr>\n      <td>...</td>\n      <td>...</td>\n      <td>...</td>\n      <td>...</td>\n      <td>...</td>\n      <td>...</td>\n    </tr>\n    <tr>\n      <td>1496</td>\n      <td>62.2</td>\n      <td>1.8</td>\n      <td>15.9</td>\n      <td>24</td>\n      <td>0.07</td>\n    </tr>\n    <tr>\n      <td>1497</td>\n      <td>62.2</td>\n      <td>1.8</td>\n      <td>15.9</td>\n      <td>24</td>\n      <td>0.07</td>\n    </tr>\n    <tr>\n      <td>1498</td>\n      <td>58.1</td>\n      <td>2.9</td>\n      <td>17.0</td>\n      <td>24</td>\n      <td>0.07</td>\n    </tr>\n    <tr>\n      <td>1499</td>\n      <td>58.1</td>\n      <td>2.9</td>\n      <td>17.0</td>\n      <td>24</td>\n      <td>0.07</td>\n    </tr>\n    <tr>\n      <td>1500</td>\n      <td>56.4</td>\n      <td>3.4</td>\n      <td>17.5</td>\n      <td>25</td>\n      <td>0.07</td>\n    </tr>\n  </tbody>\n</table>\n<p>1501 rows × 5 columns</p>\n</div>"
     },
     "metadata": {},
     "output_type": "execute_result",
     "execution_count": 8
    }
   ],
   "source": [
    "data_path = r'E:\\PersonalProjects\\ReinforcementLearning\\DRQN_traffic\\SourceData\\TrafficData.csv'\n",
    "\n",
    "env = TrafficEnvironment(data_path)\n",
    "\n",
    "\n"
   ],
   "metadata": {
    "collapsed": false,
    "pycharm": {
     "name": "#%%\n",
     "is_executing": false
    }
   }
  },
  {
   "cell_type": "code",
   "execution_count": 9,
   "outputs": [
    {
     "data": {
      "text/plain": "      speed  delay_time  road_time  temperature  rain_prob\n0      61.0         2.1       16.2           18       0.20\n1      61.0         2.1       16.2           18       0.20\n2      62.7         1.7       15.8           18       0.20\n3      62.7         1.7       15.8           18       0.20\n4      61.7         1.9       16.0           18       0.20\n5      61.7         1.9       16.0           18       0.20\n6      62.3         1.8       15.9           18       0.20\n7      62.3         1.8       15.9           18       0.20\n8      64.0         1.4       15.4           18       0.20\n9      64.0         1.4       15.4           18       0.20\n10     66.0         0.9       15.0           18       0.20\n11     66.0         0.9       15.0           18       0.20\n12     66.1         0.9       15.0           18       0.20\n13     66.1         0.9       15.0           18       0.20\n14     65.4         1.0       15.1           18       0.20\n15     65.4         1.0       15.1           18       0.20\n16     65.2         1.1       15.2           18       0.20\n17     65.2         1.1       15.2           18       0.20\n18     65.6         1.0       15.1           18       0.20\n19     65.6         1.0       15.1           18       0.20\n20     65.6         1.0       15.1           18       0.20\n21     65.6         1.0       15.1           18       0.20\n22     64.5         1.2       15.3           18       0.20\n23     64.5         1.2       15.3           18       0.20\n24     63.4         1.5       15.6           18       0.20\n25     63.4         1.5       15.6           18       0.20\n26     62.6         1.7       15.8           18       0.20\n27     62.6         1.7       15.8           18       0.20\n28     62.5         1.7       15.8           18       0.20\n29     62.5         1.7       15.8           18       0.20\n...     ...         ...        ...          ...        ...\n1471   24.0        27.1       41.2           30       0.07\n1472   16.0        47.6       61.7           30       0.07\n1473   16.0        47.6       61.7           30       0.07\n1474   20.2        35.0       49.0           30       0.07\n1475   20.2        35.0       49.0           30       0.07\n1476   21.3        32.3       46.4           30       0.07\n1477   21.3        32.3       46.4           30       0.07\n1478   23.8        27.4       41.5           30       0.07\n1479   23.8        27.4       41.5           30       0.07\n1480   23.3        28.4       42.5           30       0.07\n1481   23.3        28.4       42.5           30       0.07\n1482   36.9        12.7       26.8           30       0.07\n1483   36.9        12.7       26.8           30       0.07\n1484   32.8        16.0       30.1           30       0.07\n1485   32.8        16.0       30.1           30       0.07\n1486   39.0        11.3       25.4           30       0.07\n1487   39.0        11.3       25.4           30       0.07\n1488   55.0         3.9       18.0           30       0.07\n1489   55.0         3.9       18.0           30       0.07\n1490   52.4         4.8       18.9           30       0.07\n1491   52.4         4.8       18.9           30       0.07\n1492   64.9         1.2       15.2           24       0.07\n1493   64.9         1.2       15.2           24       0.07\n1494   63.4         1.5       15.6           24       0.07\n1495   63.4         1.5       15.6           24       0.07\n1496   62.2         1.8       15.9           24       0.07\n1497   62.2         1.8       15.9           24       0.07\n1498   58.1         2.9       17.0           24       0.07\n1499   58.1         2.9       17.0           24       0.07\n1500   56.4         3.4       17.5           25       0.07\n\n[1501 rows x 5 columns]",
      "text/html": "<div>\n<style scoped>\n    .dataframe tbody tr th:only-of-type {\n        vertical-align: middle;\n    }\n\n    .dataframe tbody tr th {\n        vertical-align: top;\n    }\n\n    .dataframe thead th {\n        text-align: right;\n    }\n</style>\n<table border=\"1\" class=\"dataframe\">\n  <thead>\n    <tr style=\"text-align: right;\">\n      <th></th>\n      <th>speed</th>\n      <th>delay_time</th>\n      <th>road_time</th>\n      <th>temperature</th>\n      <th>rain_prob</th>\n    </tr>\n  </thead>\n  <tbody>\n    <tr>\n      <th>0</th>\n      <td>61.0</td>\n      <td>2.1</td>\n      <td>16.2</td>\n      <td>18</td>\n      <td>0.20</td>\n    </tr>\n    <tr>\n      <th>1</th>\n      <td>61.0</td>\n      <td>2.1</td>\n      <td>16.2</td>\n      <td>18</td>\n      <td>0.20</td>\n    </tr>\n    <tr>\n      <th>2</th>\n      <td>62.7</td>\n      <td>1.7</td>\n      <td>15.8</td>\n      <td>18</td>\n      <td>0.20</td>\n    </tr>\n    <tr>\n      <th>3</th>\n      <td>62.7</td>\n      <td>1.7</td>\n      <td>15.8</td>\n      <td>18</td>\n      <td>0.20</td>\n    </tr>\n    <tr>\n      <th>4</th>\n      <td>61.7</td>\n      <td>1.9</td>\n      <td>16.0</td>\n      <td>18</td>\n      <td>0.20</td>\n    </tr>\n    <tr>\n      <th>5</th>\n      <td>61.7</td>\n      <td>1.9</td>\n      <td>16.0</td>\n      <td>18</td>\n      <td>0.20</td>\n    </tr>\n    <tr>\n      <th>6</th>\n      <td>62.3</td>\n      <td>1.8</td>\n      <td>15.9</td>\n      <td>18</td>\n      <td>0.20</td>\n    </tr>\n    <tr>\n      <th>7</th>\n      <td>62.3</td>\n      <td>1.8</td>\n      <td>15.9</td>\n      <td>18</td>\n      <td>0.20</td>\n    </tr>\n    <tr>\n      <th>8</th>\n      <td>64.0</td>\n      <td>1.4</td>\n      <td>15.4</td>\n      <td>18</td>\n      <td>0.20</td>\n    </tr>\n    <tr>\n      <th>9</th>\n      <td>64.0</td>\n      <td>1.4</td>\n      <td>15.4</td>\n      <td>18</td>\n      <td>0.20</td>\n    </tr>\n    <tr>\n      <th>10</th>\n      <td>66.0</td>\n      <td>0.9</td>\n      <td>15.0</td>\n      <td>18</td>\n      <td>0.20</td>\n    </tr>\n    <tr>\n      <th>11</th>\n      <td>66.0</td>\n      <td>0.9</td>\n      <td>15.0</td>\n      <td>18</td>\n      <td>0.20</td>\n    </tr>\n    <tr>\n      <th>12</th>\n      <td>66.1</td>\n      <td>0.9</td>\n      <td>15.0</td>\n      <td>18</td>\n      <td>0.20</td>\n    </tr>\n    <tr>\n      <th>13</th>\n      <td>66.1</td>\n      <td>0.9</td>\n      <td>15.0</td>\n      <td>18</td>\n      <td>0.20</td>\n    </tr>\n    <tr>\n      <th>14</th>\n      <td>65.4</td>\n      <td>1.0</td>\n      <td>15.1</td>\n      <td>18</td>\n      <td>0.20</td>\n    </tr>\n    <tr>\n      <th>15</th>\n      <td>65.4</td>\n      <td>1.0</td>\n      <td>15.1</td>\n      <td>18</td>\n      <td>0.20</td>\n    </tr>\n    <tr>\n      <th>16</th>\n      <td>65.2</td>\n      <td>1.1</td>\n      <td>15.2</td>\n      <td>18</td>\n      <td>0.20</td>\n    </tr>\n    <tr>\n      <th>17</th>\n      <td>65.2</td>\n      <td>1.1</td>\n      <td>15.2</td>\n      <td>18</td>\n      <td>0.20</td>\n    </tr>\n    <tr>\n      <th>18</th>\n      <td>65.6</td>\n      <td>1.0</td>\n      <td>15.1</td>\n      <td>18</td>\n      <td>0.20</td>\n    </tr>\n    <tr>\n      <th>19</th>\n      <td>65.6</td>\n      <td>1.0</td>\n      <td>15.1</td>\n      <td>18</td>\n      <td>0.20</td>\n    </tr>\n    <tr>\n      <th>20</th>\n      <td>65.6</td>\n      <td>1.0</td>\n      <td>15.1</td>\n      <td>18</td>\n      <td>0.20</td>\n    </tr>\n    <tr>\n      <th>21</th>\n      <td>65.6</td>\n      <td>1.0</td>\n      <td>15.1</td>\n      <td>18</td>\n      <td>0.20</td>\n    </tr>\n    <tr>\n      <th>22</th>\n      <td>64.5</td>\n      <td>1.2</td>\n      <td>15.3</td>\n      <td>18</td>\n      <td>0.20</td>\n    </tr>\n    <tr>\n      <th>23</th>\n      <td>64.5</td>\n      <td>1.2</td>\n      <td>15.3</td>\n      <td>18</td>\n      <td>0.20</td>\n    </tr>\n    <tr>\n      <th>24</th>\n      <td>63.4</td>\n      <td>1.5</td>\n      <td>15.6</td>\n      <td>18</td>\n      <td>0.20</td>\n    </tr>\n    <tr>\n      <th>25</th>\n      <td>63.4</td>\n      <td>1.5</td>\n      <td>15.6</td>\n      <td>18</td>\n      <td>0.20</td>\n    </tr>\n    <tr>\n      <th>26</th>\n      <td>62.6</td>\n      <td>1.7</td>\n      <td>15.8</td>\n      <td>18</td>\n      <td>0.20</td>\n    </tr>\n    <tr>\n      <th>27</th>\n      <td>62.6</td>\n      <td>1.7</td>\n      <td>15.8</td>\n      <td>18</td>\n      <td>0.20</td>\n    </tr>\n    <tr>\n      <th>28</th>\n      <td>62.5</td>\n      <td>1.7</td>\n      <td>15.8</td>\n      <td>18</td>\n      <td>0.20</td>\n    </tr>\n    <tr>\n      <th>29</th>\n      <td>62.5</td>\n      <td>1.7</td>\n      <td>15.8</td>\n      <td>18</td>\n      <td>0.20</td>\n    </tr>\n    <tr>\n      <th>...</th>\n      <td>...</td>\n      <td>...</td>\n      <td>...</td>\n      <td>...</td>\n      <td>...</td>\n    </tr>\n    <tr>\n      <th>1471</th>\n      <td>24.0</td>\n      <td>27.1</td>\n      <td>41.2</td>\n      <td>30</td>\n      <td>0.07</td>\n    </tr>\n    <tr>\n      <th>1472</th>\n      <td>16.0</td>\n      <td>47.6</td>\n      <td>61.7</td>\n      <td>30</td>\n      <td>0.07</td>\n    </tr>\n    <tr>\n      <th>1473</th>\n      <td>16.0</td>\n      <td>47.6</td>\n      <td>61.7</td>\n      <td>30</td>\n      <td>0.07</td>\n    </tr>\n    <tr>\n      <th>1474</th>\n      <td>20.2</td>\n      <td>35.0</td>\n      <td>49.0</td>\n      <td>30</td>\n      <td>0.07</td>\n    </tr>\n    <tr>\n      <th>1475</th>\n      <td>20.2</td>\n      <td>35.0</td>\n      <td>49.0</td>\n      <td>30</td>\n      <td>0.07</td>\n    </tr>\n    <tr>\n      <th>1476</th>\n      <td>21.3</td>\n      <td>32.3</td>\n      <td>46.4</td>\n      <td>30</td>\n      <td>0.07</td>\n    </tr>\n    <tr>\n      <th>1477</th>\n      <td>21.3</td>\n      <td>32.3</td>\n      <td>46.4</td>\n      <td>30</td>\n      <td>0.07</td>\n    </tr>\n    <tr>\n      <th>1478</th>\n      <td>23.8</td>\n      <td>27.4</td>\n      <td>41.5</td>\n      <td>30</td>\n      <td>0.07</td>\n    </tr>\n    <tr>\n      <th>1479</th>\n      <td>23.8</td>\n      <td>27.4</td>\n      <td>41.5</td>\n      <td>30</td>\n      <td>0.07</td>\n    </tr>\n    <tr>\n      <th>1480</th>\n      <td>23.3</td>\n      <td>28.4</td>\n      <td>42.5</td>\n      <td>30</td>\n      <td>0.07</td>\n    </tr>\n    <tr>\n      <th>1481</th>\n      <td>23.3</td>\n      <td>28.4</td>\n      <td>42.5</td>\n      <td>30</td>\n      <td>0.07</td>\n    </tr>\n    <tr>\n      <th>1482</th>\n      <td>36.9</td>\n      <td>12.7</td>\n      <td>26.8</td>\n      <td>30</td>\n      <td>0.07</td>\n    </tr>\n    <tr>\n      <th>1483</th>\n      <td>36.9</td>\n      <td>12.7</td>\n      <td>26.8</td>\n      <td>30</td>\n      <td>0.07</td>\n    </tr>\n    <tr>\n      <th>1484</th>\n      <td>32.8</td>\n      <td>16.0</td>\n      <td>30.1</td>\n      <td>30</td>\n      <td>0.07</td>\n    </tr>\n    <tr>\n      <th>1485</th>\n      <td>32.8</td>\n      <td>16.0</td>\n      <td>30.1</td>\n      <td>30</td>\n      <td>0.07</td>\n    </tr>\n    <tr>\n      <th>1486</th>\n      <td>39.0</td>\n      <td>11.3</td>\n      <td>25.4</td>\n      <td>30</td>\n      <td>0.07</td>\n    </tr>\n    <tr>\n      <th>1487</th>\n      <td>39.0</td>\n      <td>11.3</td>\n      <td>25.4</td>\n      <td>30</td>\n      <td>0.07</td>\n    </tr>\n    <tr>\n      <th>1488</th>\n      <td>55.0</td>\n      <td>3.9</td>\n      <td>18.0</td>\n      <td>30</td>\n      <td>0.07</td>\n    </tr>\n    <tr>\n      <th>1489</th>\n      <td>55.0</td>\n      <td>3.9</td>\n      <td>18.0</td>\n      <td>30</td>\n      <td>0.07</td>\n    </tr>\n    <tr>\n      <th>1490</th>\n      <td>52.4</td>\n      <td>4.8</td>\n      <td>18.9</td>\n      <td>30</td>\n      <td>0.07</td>\n    </tr>\n    <tr>\n      <th>1491</th>\n      <td>52.4</td>\n      <td>4.8</td>\n      <td>18.9</td>\n      <td>30</td>\n      <td>0.07</td>\n    </tr>\n    <tr>\n      <th>1492</th>\n      <td>64.9</td>\n      <td>1.2</td>\n      <td>15.2</td>\n      <td>24</td>\n      <td>0.07</td>\n    </tr>\n    <tr>\n      <th>1493</th>\n      <td>64.9</td>\n      <td>1.2</td>\n      <td>15.2</td>\n      <td>24</td>\n      <td>0.07</td>\n    </tr>\n    <tr>\n      <th>1494</th>\n      <td>63.4</td>\n      <td>1.5</td>\n      <td>15.6</td>\n      <td>24</td>\n      <td>0.07</td>\n    </tr>\n    <tr>\n      <th>1495</th>\n      <td>63.4</td>\n      <td>1.5</td>\n      <td>15.6</td>\n      <td>24</td>\n      <td>0.07</td>\n    </tr>\n    <tr>\n      <th>1496</th>\n      <td>62.2</td>\n      <td>1.8</td>\n      <td>15.9</td>\n      <td>24</td>\n      <td>0.07</td>\n    </tr>\n    <tr>\n      <th>1497</th>\n      <td>62.2</td>\n      <td>1.8</td>\n      <td>15.9</td>\n      <td>24</td>\n      <td>0.07</td>\n    </tr>\n    <tr>\n      <th>1498</th>\n      <td>58.1</td>\n      <td>2.9</td>\n      <td>17.0</td>\n      <td>24</td>\n      <td>0.07</td>\n    </tr>\n    <tr>\n      <th>1499</th>\n      <td>58.1</td>\n      <td>2.9</td>\n      <td>17.0</td>\n      <td>24</td>\n      <td>0.07</td>\n    </tr>\n    <tr>\n      <th>1500</th>\n      <td>56.4</td>\n      <td>3.4</td>\n      <td>17.5</td>\n      <td>25</td>\n      <td>0.07</td>\n    </tr>\n  </tbody>\n</table>\n<p>1501 rows × 5 columns</p>\n</div>"
     },
     "metadata": {},
     "output_type": "execute_result",
     "execution_count": 9
    }
   ],
   "source": [
    "class DeepRecurrentQNetwork:\n",
    "    def __init__(self,n_features,learning_rate=0.01,reward_decay=0.9,\n",
    "                 e_greedy=0.9,replace_target_iter=300,memory_size=500,\n",
    "                 batch_size=32, e_greedy_increment=None,output_graph=False,):\n",
    "        self.n_features = n_features # 表示状态s的特征\n",
    "        self.n_actions = 2^len(self.n_features)  # 可选行为的个数取决于s的特征长度\n",
    "        \n",
    "        self.lr = learning_rate  # 学习率\n",
    "        self.gamma = reward_decay  # reward衰减的系数\n",
    "        self.epsilon_max = e_greedy  # epsilon最大值\n",
    "        self.replace_target_iter = replace_target_iter  # 每嗝多少次训练就轮换一下网络的参数\n",
    "        self.memory_size = memory_size    # 记忆库最大容量\n",
    "        self.batch_size = batch_size   # 训练的batchsize\n",
    "        self.epsilon_increment = e_greedy_increment  # epsilon增加量，随着训练的迭代，逐步减少探索性\n",
    "        self.epsilon = 0 if e_greedy_increment is not None else self.epsilon_max  \n",
    "\n",
    "        # total learning step\n",
    "        self.learn_step_counter = 0\n",
    "\n",
    "        # initialize zero memory [s, a, r, s_]\n",
    "        self.memory = np.zeros((self.memory_size, n_features * 2 + 2))\n",
    "\n",
    "        # consist of [target_net, evaluate_net]\n",
    "        # self._build_net()\n",
    "        t_params = tf.get_collection('target_net_params')\n",
    "        e_params = tf.get_collection('eval_net_params')\n",
    "        self.replace_target_op = [tf.assign(t, e) for t, e in zip(t_params, e_params)]\n",
    "\n",
    "        self.sess = tf.Session()\n",
    "\n",
    "        if output_graph:\n",
    "            # $ tensorboard --logdir=logs\n",
    "            # tf.train.SummaryWriter soon be deprecated, use following\n",
    "            tf.summary.FileWriter(\"logs/\", self.sess.graph)\n",
    "\n",
    "        self.sess.run(tf.global_variables_initializer())\n",
    "        self.cost_his = []"
   ],
   "metadata": {
    "collapsed": false,
    "pycharm": {
     "name": "#%%\n",
     "is_executing": false
    }
   }
  },
  {
   "cell_type": "code",
   "execution_count": 28,
   "outputs": [
    {
     "name": "stderr",
     "text": [
      "D:\\Anaconda3\\Lib\\site-packages\\ipykernel_launcher.py:2: FutureWarning: The 'get_values' method is deprecated and will be removed in a future version. Use '.values' or 'np.asarray(..)' instead.\n  \n"
     ],
     "output_type": "stream"
    },
    {
     "data": {
      "text/plain": "[58.6, 2.8, 16.9, 23.0, 0.06]"
     },
     "metadata": {},
     "output_type": "execute_result",
     "execution_count": 28
    }
   ],
   "source": [],
   "metadata": {
    "collapsed": false,
    "pycharm": {
     "name": "#%%\n",
     "is_executing": false
    }
   }
  }
 ],
 "metadata": {
  "language_info": {
   "codemirror_mode": {
    "name": "ipython",
    "version": 2
   },
   "file_extension": ".py",
   "mimetype": "text/x-python",
   "name": "python",
   "nbconvert_exporter": "python",
   "pygments_lexer": "ipython2",
   "version": "2.7.6"
  },
  "kernelspec": {
   "name": "python3",
   "language": "python",
   "display_name": "Python 3"
  },
  "pycharm": {
   "stem_cell": {
    "cell_type": "raw",
    "source": [],
    "metadata": {
     "collapsed": false
    }
   }
  }
 },
 "nbformat": 4,
 "nbformat_minor": 0
}