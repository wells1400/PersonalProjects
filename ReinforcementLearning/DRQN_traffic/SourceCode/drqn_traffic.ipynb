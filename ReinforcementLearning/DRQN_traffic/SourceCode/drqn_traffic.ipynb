{
 "cells": [
  {
   "cell_type": "code",
   "execution_count": 9,
   "metadata": {
    "collapsed": true,
    "pycharm": {
     "is_executing": false
    }
   },
   "outputs": [],
   "source": [
    "import numpy as np\n",
    "import pandas as pd\n",
    "import random\n",
    "import tensorflow.compat.v1 as tf\n",
    "from tensorflow.contrib import rnn\n",
    "from tensorflow import nn\n",
    "tf.disable_v2_behavior()\n",
    "\n",
    "np.random.seed(1)\n",
    "tf.set_random_seed(1)"
   ]
  },
  {
   "cell_type": "code",
   "execution_count": 12,
   "outputs": [],
   "source": [
    "# 数据处理\n",
    "class DataProcess:\n",
    "    def __init__(self, data_path):\n",
    "        self.data_path = data_path\n",
    "        # 分割数据\n",
    "        self.data_split()\n",
    "    \n",
    "    def data_split(self):\n",
    "        data_pd = pd.read_csv(self.data_path, encoding='gbk')\n",
    "        data_pd = data_pd.iloc[:, 1:]\n",
    "        data_pd = data_pd.rename({'实际时间':'actual_time','速度':'speed',\n",
    "                              '延迟时间':'delay_time','行程时间':'road_time',\n",
    "                              '气温':'temperature','降水概率':'rain_prob'}, axis=1)\n",
    "        if not hasattr(self, 'trian_pd'):\n",
    "            self.trian_pd = data_pd.loc[:1500,:]\n",
    "        if not hasattr(self, 'test_pd'):\n",
    "            self.test_pd = data_pd.loc[1500:,:]\n",
    "            \n",
    "class TrafficEnvironment(DataProcess):\n",
    "    def __init__(self, data_path):\n",
    "        DataProcess.__init__(self, data_path=data_path)\n",
    "        self.reset_mode(mode='train')\n",
    "    \n",
    "    # 环境模式\n",
    "    def reset_mode(self, mode):\n",
    "        if not hasattr(self, 'mode'):\n",
    "            self.mode = mode\n",
    "        self.mode = mode\n",
    "    \n",
    "    # 环境交互函数\n",
    "    # 输入状态s、行为，输出s,a,reward和s_,如果找不到满足条件的reward和s_则返回空[]\n",
    "    def env_backward(self, s, a):\n",
    "        check_s_ = self.check_action(s, a)\n",
    "        if len(check_s_) == 0:\n",
    "            return []\n",
    "        s_ = random.choice(check_s_)\n",
    "        reward = s[1] - s_[1]\n",
    "        return s,a,reward,s_\n",
    "    \n",
    "    # 检查行为是否合法,合法则返回[s_1,s_2...],不合法则返回[]\n",
    "    def check_action(self, s, a):\n",
    "        data_pd = self.trian_pd if self.mode=='trian' else self.test_pd\n",
    "        action_feature = [0 for _ in range(data_pd.shape[1])]\n",
    "        \n",
    "        decoded_str = bin(a).replace('0b','')\n",
    "        for val in decoded_str:\n",
    "            val_int = int(val)\n",
    "            action_feature.append(val_int)\n",
    "        # 表征行为的向量\n",
    "        action_vector = action_feature[-self.trian_pd.shape[1]:]\n",
    "        col_labels = self.trian_pd.columns.tolist()\n",
    "        # 按照条件逐步筛选s_\n",
    "        selected_pd = data_pd\n",
    "        for filter_index in range(len(action_vector)):\n",
    "            if action_vector[filter_index] == 1:\n",
    "                selected_pd = selected_pd.loc[selected_pd[col_labels[filter_index]] >= s[filter_index]]\n",
    "            else:\n",
    "                selected_pd = selected_pd.loc[selected_pd[col_labels[filter_index]] < s[filter_index]]\n",
    "            if selected_pd.shape[0] == 0:\n",
    "                return []\n",
    "        s_next_container = selected_pd.get_values().tolist()\n",
    "        return s_next_container\n",
    "        \n",
    "    \n",
    "class DeepRecurrentQNetwork:\n",
    "    def __init__(self,n_features,learning_rate=0.01,reward_decay=0.9,\n",
    "                 e_greedy=0.9,replace_target_iter=300,memory_size=500,\n",
    "                 batch_size=32, e_greedy_increment=None,output_graph=False,):\n",
    "        self.n_features = n_features # 表示状态s的特征\n",
    "        self.n_actions = 2^self.n_features  # 可选行为的个数取决于s的特征长度\n",
    "        \n",
    "        self.lr = learning_rate  # 学习率\n",
    "        self.gamma = reward_decay  # reward衰减的系数\n",
    "        self.epsilon_max = e_greedy  # epsilon最大值\n",
    "        self.replace_target_iter = replace_target_iter  # 每嗝多少次训练就轮换一下网络的参数\n",
    "        self.memory_size = memory_size    # 记忆库最大容量\n",
    "        self.batch_size = batch_size   # 训练的batchsize\n",
    "        self.epsilon_increment = e_greedy_increment  # epsilon增加量，随着训练的迭代，逐步减少探索性\n",
    "        self.epsilon = 0 if e_greedy_increment is not None else self.epsilon_max  \n",
    "\n",
    "        # total learning step\n",
    "        self.learn_step_counter = 0\n",
    "\n",
    "        # initialize zero memory [s, a, r, s_]\n",
    "        self.memory = np.zeros((self.memory_size, n_features * 2 + 2))\n",
    "\n",
    "        # consist of [target_net, evaluate_net]\n",
    "        self.lstm_units = 10\n",
    "        self.build_net()\n",
    "        t_params = tf.get_collection('target_net_params')\n",
    "        e_params = tf.get_collection('eval_net_params')\n",
    "        self.replace_target_op = [tf.assign(t, e) for t, e in zip(t_params, e_params)]\n",
    "\n",
    "        self.sess = tf.Session()\n",
    "\n",
    "        if output_graph:\n",
    "            # $ tensorboard --logdir=logs\n",
    "            # tf.train.SummaryWriter soon be deprecated, use following\n",
    "            tf.summary.FileWriter(\"logs\\\\\", self.sess.graph)\n",
    "            \n",
    "        self.sess.run(tf.global_variables_initializer())\n",
    "        self.cost_his = []\n",
    "        \n",
    "    def store_transition(self, s, a, r, s_):\n",
    "        if not hasattr(self, 'memory_counter'):\n",
    "            self.memory_counter = 0\n",
    "        transition = np.hstack((s, [a, r], s_))\n",
    "        # 更新记忆，替换\n",
    "        index = self.memory_counter % self.memory_size\n",
    "        self.memory[index, :] = transition\n",
    "        self.memory_counter += 1\n",
    "        \n",
    "    def choose_action(self, s):\n",
    "        valid_actions = []\n",
    "        for action in range(self.n_actions):\n",
    "            env_backward = env.check_action(s, action)\n",
    "            if len(env_backward) != 0:\n",
    "                valid_actions.append(action)\n",
    "        # 任何一个状态s不可能没有行为可以选\n",
    "        # epsilon的概率从valid_actions中选择最优的那个\n",
    "        # 1-epsilon的概率valid_actions中随机选择一个行为\n",
    "        s = s[np.newaxis, :]\n",
    "        rand_point = np.random.uniform()\n",
    "        if rand_point < self.epsilon:\n",
    "            # 从valid_actions中选择最优的那个\n",
    "            actions_value = self.sess.run(self.q_eval, feed_dict={self.s: s})\n",
    "            action = actions_value[0]\n",
    "            for action_ in actions_value:\n",
    "                action = action_ if actions_value[action_] > actions_value[action] else action\n",
    "            return action\n",
    "        else:\n",
    "            action = np.random.randint(0, self.n_actions)\n",
    "        return action\n",
    "        \n",
    "        \n",
    "        pass\n",
    "    \n",
    "    # 搭建神经网络\n",
    "    def build_net(self):\n",
    "        step = 1\n",
    "        # ------------------ build evaluate_net ------------------\n",
    "        self.s = tf.placeholder(tf.float32, [None, step, self.n_features], name='s')\n",
    "        self.q_target = tf.placeholder(tf.float32, [None, self.n_actions], name='Q_target')\n",
    "        \n",
    "        with tf.variable_scope('eval_net'):\n",
    "            c_names, n_l1, w_initializer, b_initializer = \\\n",
    "                ['eval_net_params', tf.GraphKeys.GLOBAL_VARIABLES], 10, \\\n",
    "                tf.random_normal_initializer(0., 0.3), tf.constant_initializer(0.1)  # config of layers\n",
    "            with tf.variable_scope('layer_1'):\n",
    "                lstm_cell = rnn.BasicLSTMCell(self.lstm_units)\n",
    "                init_state = lstm_cell.zero_state(step, dtype=tf.float32)\n",
    "                rnn_out, final_state = tf.nn.dynamic_rnn(lstm_cell, self.s, initial_state=init_state)\n",
    "                self.q_eval = rnn_out\n",
    "                \n",
    "        with tf.variable_scope('loss'):\n",
    "            self.loss = tf.reduce_mean(tf.squared_difference(self.q_target, self.q_eval))\n",
    "        with tf.variable_scope('train'):\n",
    "            self._train_op = tf.train.RMSPropOptimizer(self.lr).minimize(self.loss)\n",
    "        # ------------------ build target_net ------------------\n",
    "        self.s_ = tf.placeholder(tf.float32, [None, step, self.n_features], name='s_')    # input \n",
    "        with tf.variable_scope('target_net'):\n",
    "            c_names = ['target_net_params', tf.GraphKeys.GLOBAL_VARIABLES]\n",
    "            with tf.variable_scope('layer_1'):\n",
    "                lstm_cell = rnn.BasicLSTMCell(self.lstm_units)\n",
    "                init_state = lstm_cell.zero_state(step, dtype=tf.float32)\n",
    "                rnn_out, final_state = tf.nn.dynamic_rnn(lstm_cell, self.s, initial_state=init_state)\n",
    "                self.q_next = rnn_out"
   ],
   "metadata": {
    "collapsed": false,
    "pycharm": {
     "name": "#%%\n",
     "is_executing": false
    }
   }
  },
  {
   "cell_type": "code",
   "execution_count": 13,
   "outputs": [
    {
     "name": "stdout",
     "text": [
      "WARNING:tensorflow:From D:\\Anaconda3\\lib\\site-packages\\tensorflow\\python\\ops\\tensor_array_ops.py:162: colocate_with (from tensorflow.python.framework.ops) is deprecated and will be removed in a future version.\nInstructions for updating:\nColocations handled automatically by placer.\n"
     ],
     "output_type": "stream"
    },
    {
     "traceback": [
      "\u001b[1;31m---------------------------------------------------------------------------\u001b[0m",
      "\u001b[1;31mInvalidArgumentError\u001b[0m                      Traceback (most recent call last)",
      "\u001b[1;32mD:\\Anaconda3\\lib\\site-packages\\tensorflow\\python\\framework\\ops.py\u001b[0m in \u001b[0;36m_create_c_op\u001b[1;34m(graph, node_def, inputs, control_inputs)\u001b[0m\n\u001b[0;32m   1658\u001b[0m   \u001b[1;32mtry\u001b[0m\u001b[1;33m:\u001b[0m\u001b[1;33m\u001b[0m\u001b[1;33m\u001b[0m\u001b[0m\n\u001b[1;32m-> 1659\u001b[1;33m     \u001b[0mc_op\u001b[0m \u001b[1;33m=\u001b[0m \u001b[0mc_api\u001b[0m\u001b[1;33m.\u001b[0m\u001b[0mTF_FinishOperation\u001b[0m\u001b[1;33m(\u001b[0m\u001b[0mop_desc\u001b[0m\u001b[1;33m)\u001b[0m\u001b[1;33m\u001b[0m\u001b[1;33m\u001b[0m\u001b[0m\n\u001b[0m\u001b[0;32m   1660\u001b[0m   \u001b[1;32mexcept\u001b[0m \u001b[0merrors\u001b[0m\u001b[1;33m.\u001b[0m\u001b[0mInvalidArgumentError\u001b[0m \u001b[1;32mas\u001b[0m \u001b[0me\u001b[0m\u001b[1;33m:\u001b[0m\u001b[1;33m\u001b[0m\u001b[1;33m\u001b[0m\u001b[0m\n",
      "\u001b[1;31mInvalidArgumentError\u001b[0m: Dimensions must be equal, but are 7 and 10 for 'loss/SquaredDifference' (op: 'SquaredDifference') with input shapes: [?,7], [1,1,10].",
      "\nDuring handling of the above exception, another exception occurred:\n",
      "\u001b[1;31mValueError\u001b[0m                                Traceback (most recent call last)",
      "\u001b[1;32m<ipython-input-13-66f0ce437d43>\u001b[0m in \u001b[0;36m<module>\u001b[1;34m\u001b[0m\n\u001b[0;32m     12\u001b[0m                         \u001b[0mreplace_target_iter\u001b[0m\u001b[1;33m=\u001b[0m\u001b[1;36m200\u001b[0m\u001b[1;33m,\u001b[0m\u001b[1;33m\u001b[0m\u001b[1;33m\u001b[0m\u001b[0m\n\u001b[0;32m     13\u001b[0m                         \u001b[0mmemory_size\u001b[0m\u001b[1;33m=\u001b[0m\u001b[1;36m2000\u001b[0m\u001b[1;33m,\u001b[0m\u001b[1;33m\u001b[0m\u001b[1;33m\u001b[0m\u001b[0m\n\u001b[1;32m---> 14\u001b[1;33m                         output_graph=True)\n\u001b[0m\u001b[0;32m     15\u001b[0m \u001b[1;33m\u001b[0m\u001b[0m\n",
      "\u001b[1;32m<ipython-input-12-4f5d19d28e10>\u001b[0m in \u001b[0;36m__init__\u001b[1;34m(self, n_features, learning_rate, reward_decay, e_greedy, replace_target_iter, memory_size, batch_size, e_greedy_increment, output_graph)\u001b[0m\n\u001b[0;32m     87\u001b[0m         \u001b[1;31m# consist of [target_net, evaluate_net]\u001b[0m\u001b[1;33m\u001b[0m\u001b[1;33m\u001b[0m\u001b[1;33m\u001b[0m\u001b[0m\n\u001b[0;32m     88\u001b[0m         \u001b[0mself\u001b[0m\u001b[1;33m.\u001b[0m\u001b[0mlstm_units\u001b[0m \u001b[1;33m=\u001b[0m \u001b[1;36m10\u001b[0m\u001b[1;33m\u001b[0m\u001b[1;33m\u001b[0m\u001b[0m\n\u001b[1;32m---> 89\u001b[1;33m         \u001b[0mself\u001b[0m\u001b[1;33m.\u001b[0m\u001b[0mbuild_net\u001b[0m\u001b[1;33m(\u001b[0m\u001b[1;33m)\u001b[0m\u001b[1;33m\u001b[0m\u001b[1;33m\u001b[0m\u001b[0m\n\u001b[0m\u001b[0;32m     90\u001b[0m         \u001b[0mt_params\u001b[0m \u001b[1;33m=\u001b[0m \u001b[0mtf\u001b[0m\u001b[1;33m.\u001b[0m\u001b[0mget_collection\u001b[0m\u001b[1;33m(\u001b[0m\u001b[1;34m'target_net_params'\u001b[0m\u001b[1;33m)\u001b[0m\u001b[1;33m\u001b[0m\u001b[1;33m\u001b[0m\u001b[0m\n\u001b[0;32m     91\u001b[0m         \u001b[0me_params\u001b[0m \u001b[1;33m=\u001b[0m \u001b[0mtf\u001b[0m\u001b[1;33m.\u001b[0m\u001b[0mget_collection\u001b[0m\u001b[1;33m(\u001b[0m\u001b[1;34m'eval_net_params'\u001b[0m\u001b[1;33m)\u001b[0m\u001b[1;33m\u001b[0m\u001b[1;33m\u001b[0m\u001b[0m\n",
      "\u001b[1;32m<ipython-input-12-4f5d19d28e10>\u001b[0m in \u001b[0;36mbuild_net\u001b[1;34m(self)\u001b[0m\n\u001b[0;32m    154\u001b[0m \u001b[1;33m\u001b[0m\u001b[0m\n\u001b[0;32m    155\u001b[0m         \u001b[1;32mwith\u001b[0m \u001b[0mtf\u001b[0m\u001b[1;33m.\u001b[0m\u001b[0mvariable_scope\u001b[0m\u001b[1;33m(\u001b[0m\u001b[1;34m'loss'\u001b[0m\u001b[1;33m)\u001b[0m\u001b[1;33m:\u001b[0m\u001b[1;33m\u001b[0m\u001b[1;33m\u001b[0m\u001b[0m\n\u001b[1;32m--> 156\u001b[1;33m             \u001b[0mself\u001b[0m\u001b[1;33m.\u001b[0m\u001b[0mloss\u001b[0m \u001b[1;33m=\u001b[0m \u001b[0mtf\u001b[0m\u001b[1;33m.\u001b[0m\u001b[0mreduce_mean\u001b[0m\u001b[1;33m(\u001b[0m\u001b[0mtf\u001b[0m\u001b[1;33m.\u001b[0m\u001b[0msquared_difference\u001b[0m\u001b[1;33m(\u001b[0m\u001b[0mself\u001b[0m\u001b[1;33m.\u001b[0m\u001b[0mq_target\u001b[0m\u001b[1;33m,\u001b[0m \u001b[0mself\u001b[0m\u001b[1;33m.\u001b[0m\u001b[0mq_eval\u001b[0m\u001b[1;33m)\u001b[0m\u001b[1;33m)\u001b[0m\u001b[1;33m\u001b[0m\u001b[1;33m\u001b[0m\u001b[0m\n\u001b[0m\u001b[0;32m    157\u001b[0m         \u001b[1;32mwith\u001b[0m \u001b[0mtf\u001b[0m\u001b[1;33m.\u001b[0m\u001b[0mvariable_scope\u001b[0m\u001b[1;33m(\u001b[0m\u001b[1;34m'train'\u001b[0m\u001b[1;33m)\u001b[0m\u001b[1;33m:\u001b[0m\u001b[1;33m\u001b[0m\u001b[1;33m\u001b[0m\u001b[0m\n\u001b[0;32m    158\u001b[0m             \u001b[0mself\u001b[0m\u001b[1;33m.\u001b[0m\u001b[0m_train_op\u001b[0m \u001b[1;33m=\u001b[0m \u001b[0mtf\u001b[0m\u001b[1;33m.\u001b[0m\u001b[0mtrain\u001b[0m\u001b[1;33m.\u001b[0m\u001b[0mRMSPropOptimizer\u001b[0m\u001b[1;33m(\u001b[0m\u001b[0mself\u001b[0m\u001b[1;33m.\u001b[0m\u001b[0mlr\u001b[0m\u001b[1;33m)\u001b[0m\u001b[1;33m.\u001b[0m\u001b[0mminimize\u001b[0m\u001b[1;33m(\u001b[0m\u001b[0mself\u001b[0m\u001b[1;33m.\u001b[0m\u001b[0mloss\u001b[0m\u001b[1;33m)\u001b[0m\u001b[1;33m\u001b[0m\u001b[1;33m\u001b[0m\u001b[0m\n",
      "\u001b[1;32mD:\\Anaconda3\\lib\\site-packages\\tensorflow\\python\\ops\\gen_math_ops.py\u001b[0m in \u001b[0;36msquared_difference\u001b[1;34m(x, y, name)\u001b[0m\n\u001b[0;32m  10058\u001b[0m   \u001b[1;32mtry\u001b[0m\u001b[1;33m:\u001b[0m\u001b[1;33m\u001b[0m\u001b[1;33m\u001b[0m\u001b[0m\n\u001b[0;32m  10059\u001b[0m     _, _, _op = _op_def_lib._apply_op_helper(\n\u001b[1;32m> 10060\u001b[1;33m         \"SquaredDifference\", x=x, y=y, name=name)\n\u001b[0m\u001b[0;32m  10061\u001b[0m   \u001b[1;32mexcept\u001b[0m \u001b[1;33m(\u001b[0m\u001b[0mTypeError\u001b[0m\u001b[1;33m,\u001b[0m \u001b[0mValueError\u001b[0m\u001b[1;33m)\u001b[0m\u001b[1;33m:\u001b[0m\u001b[1;33m\u001b[0m\u001b[1;33m\u001b[0m\u001b[0m\n\u001b[0;32m  10062\u001b[0m     result = _dispatch.dispatch(\n",
      "\u001b[1;32mD:\\Anaconda3\\lib\\site-packages\\tensorflow\\python\\framework\\op_def_library.py\u001b[0m in \u001b[0;36m_apply_op_helper\u001b[1;34m(self, op_type_name, name, **keywords)\u001b[0m\n\u001b[0;32m    786\u001b[0m         op = g.create_op(op_type_name, inputs, output_types, name=scope,\n\u001b[0;32m    787\u001b[0m                          \u001b[0minput_types\u001b[0m\u001b[1;33m=\u001b[0m\u001b[0minput_types\u001b[0m\u001b[1;33m,\u001b[0m \u001b[0mattrs\u001b[0m\u001b[1;33m=\u001b[0m\u001b[0mattr_protos\u001b[0m\u001b[1;33m,\u001b[0m\u001b[1;33m\u001b[0m\u001b[1;33m\u001b[0m\u001b[0m\n\u001b[1;32m--> 788\u001b[1;33m                          op_def=op_def)\n\u001b[0m\u001b[0;32m    789\u001b[0m       \u001b[1;32mreturn\u001b[0m \u001b[0moutput_structure\u001b[0m\u001b[1;33m,\u001b[0m \u001b[0mop_def\u001b[0m\u001b[1;33m.\u001b[0m\u001b[0mis_stateful\u001b[0m\u001b[1;33m,\u001b[0m \u001b[0mop\u001b[0m\u001b[1;33m\u001b[0m\u001b[1;33m\u001b[0m\u001b[0m\n\u001b[0;32m    790\u001b[0m \u001b[1;33m\u001b[0m\u001b[0m\n",
      "\u001b[1;32mD:\\Anaconda3\\lib\\site-packages\\tensorflow\\python\\util\\deprecation.py\u001b[0m in \u001b[0;36mnew_func\u001b[1;34m(*args, **kwargs)\u001b[0m\n\u001b[0;32m    505\u001b[0m                 \u001b[1;34m'in a future version'\u001b[0m \u001b[1;32mif\u001b[0m \u001b[0mdate\u001b[0m \u001b[1;32mis\u001b[0m \u001b[1;32mNone\u001b[0m \u001b[1;32melse\u001b[0m \u001b[1;33m(\u001b[0m\u001b[1;34m'after %s'\u001b[0m \u001b[1;33m%\u001b[0m \u001b[0mdate\u001b[0m\u001b[1;33m)\u001b[0m\u001b[1;33m,\u001b[0m\u001b[1;33m\u001b[0m\u001b[1;33m\u001b[0m\u001b[0m\n\u001b[0;32m    506\u001b[0m                 instructions)\n\u001b[1;32m--> 507\u001b[1;33m       \u001b[1;32mreturn\u001b[0m \u001b[0mfunc\u001b[0m\u001b[1;33m(\u001b[0m\u001b[1;33m*\u001b[0m\u001b[0margs\u001b[0m\u001b[1;33m,\u001b[0m \u001b[1;33m**\u001b[0m\u001b[0mkwargs\u001b[0m\u001b[1;33m)\u001b[0m\u001b[1;33m\u001b[0m\u001b[1;33m\u001b[0m\u001b[0m\n\u001b[0m\u001b[0;32m    508\u001b[0m \u001b[1;33m\u001b[0m\u001b[0m\n\u001b[0;32m    509\u001b[0m     doc = _add_deprecated_arg_notice_to_docstring(\n",
      "\u001b[1;32mD:\\Anaconda3\\lib\\site-packages\\tensorflow\\python\\framework\\ops.py\u001b[0m in \u001b[0;36mcreate_op\u001b[1;34m(***failed resolving arguments***)\u001b[0m\n\u001b[0;32m   3298\u001b[0m           \u001b[0minput_types\u001b[0m\u001b[1;33m=\u001b[0m\u001b[0minput_types\u001b[0m\u001b[1;33m,\u001b[0m\u001b[1;33m\u001b[0m\u001b[1;33m\u001b[0m\u001b[0m\n\u001b[0;32m   3299\u001b[0m           \u001b[0moriginal_op\u001b[0m\u001b[1;33m=\u001b[0m\u001b[0mself\u001b[0m\u001b[1;33m.\u001b[0m\u001b[0m_default_original_op\u001b[0m\u001b[1;33m,\u001b[0m\u001b[1;33m\u001b[0m\u001b[1;33m\u001b[0m\u001b[0m\n\u001b[1;32m-> 3300\u001b[1;33m           op_def=op_def)\n\u001b[0m\u001b[0;32m   3301\u001b[0m       \u001b[0mself\u001b[0m\u001b[1;33m.\u001b[0m\u001b[0m_create_op_helper\u001b[0m\u001b[1;33m(\u001b[0m\u001b[0mret\u001b[0m\u001b[1;33m,\u001b[0m \u001b[0mcompute_device\u001b[0m\u001b[1;33m=\u001b[0m\u001b[0mcompute_device\u001b[0m\u001b[1;33m)\u001b[0m\u001b[1;33m\u001b[0m\u001b[1;33m\u001b[0m\u001b[0m\n\u001b[0;32m   3302\u001b[0m     \u001b[1;32mreturn\u001b[0m \u001b[0mret\u001b[0m\u001b[1;33m\u001b[0m\u001b[1;33m\u001b[0m\u001b[0m\n",
      "\u001b[1;32mD:\\Anaconda3\\lib\\site-packages\\tensorflow\\python\\framework\\ops.py\u001b[0m in \u001b[0;36m__init__\u001b[1;34m(self, node_def, g, inputs, output_types, control_inputs, input_types, original_op, op_def)\u001b[0m\n\u001b[0;32m   1821\u001b[0m           op_def, inputs, node_def.attr)\n\u001b[0;32m   1822\u001b[0m       self._c_op = _create_c_op(self._graph, node_def, grouped_inputs,\n\u001b[1;32m-> 1823\u001b[1;33m                                 control_input_ops)\n\u001b[0m\u001b[0;32m   1824\u001b[0m \u001b[1;33m\u001b[0m\u001b[0m\n\u001b[0;32m   1825\u001b[0m     \u001b[1;31m# Initialize self._outputs.\u001b[0m\u001b[1;33m\u001b[0m\u001b[1;33m\u001b[0m\u001b[1;33m\u001b[0m\u001b[0m\n",
      "\u001b[1;32mD:\\Anaconda3\\lib\\site-packages\\tensorflow\\python\\framework\\ops.py\u001b[0m in \u001b[0;36m_create_c_op\u001b[1;34m(graph, node_def, inputs, control_inputs)\u001b[0m\n\u001b[0;32m   1660\u001b[0m   \u001b[1;32mexcept\u001b[0m \u001b[0merrors\u001b[0m\u001b[1;33m.\u001b[0m\u001b[0mInvalidArgumentError\u001b[0m \u001b[1;32mas\u001b[0m \u001b[0me\u001b[0m\u001b[1;33m:\u001b[0m\u001b[1;33m\u001b[0m\u001b[1;33m\u001b[0m\u001b[0m\n\u001b[0;32m   1661\u001b[0m     \u001b[1;31m# Convert to ValueError for backwards compatibility.\u001b[0m\u001b[1;33m\u001b[0m\u001b[1;33m\u001b[0m\u001b[1;33m\u001b[0m\u001b[0m\n\u001b[1;32m-> 1662\u001b[1;33m     \u001b[1;32mraise\u001b[0m \u001b[0mValueError\u001b[0m\u001b[1;33m(\u001b[0m\u001b[0mstr\u001b[0m\u001b[1;33m(\u001b[0m\u001b[0me\u001b[0m\u001b[1;33m)\u001b[0m\u001b[1;33m)\u001b[0m\u001b[1;33m\u001b[0m\u001b[1;33m\u001b[0m\u001b[0m\n\u001b[0m\u001b[0;32m   1663\u001b[0m \u001b[1;33m\u001b[0m\u001b[0m\n\u001b[0;32m   1664\u001b[0m   \u001b[1;32mreturn\u001b[0m \u001b[0mc_op\u001b[0m\u001b[1;33m\u001b[0m\u001b[1;33m\u001b[0m\u001b[0m\n",
      "\u001b[1;31mValueError\u001b[0m: Dimensions must be equal, but are 7 and 10 for 'loss/SquaredDifference' (op: 'SquaredDifference') with input shapes: [?,7], [1,1,10]."
     ],
     "ename": "ValueError",
     "evalue": "Dimensions must be equal, but are 7 and 10 for 'loss/SquaredDifference' (op: 'SquaredDifference') with input shapes: [?,7], [1,1,10].",
     "output_type": "error"
    }
   ],
   "source": [
    "data_path = r'E:\\PersonalProjects\\ReinforcementLearning\\DRQN_traffic\\SourceData\\TrafficData.csv'\n",
    "\n",
    "env = TrafficEnvironment(data_path)\n",
    "\n",
    "\n",
    "\n",
    "rl_network = DeepRecurrentQNetwork(\n",
    "                        n_features=5,\n",
    "                        learning_rate=0.01,\n",
    "                        reward_decay=0.9,\n",
    "                        e_greedy=0.9,\n",
    "                        replace_target_iter=200,\n",
    "                        memory_size=2000,\n",
    "                        output_graph=True)"
   ],
   "metadata": {
    "collapsed": false,
    "pycharm": {
     "name": "#%%\n",
     "is_executing": false
    }
   }
  },
  {
   "cell_type": "code",
   "execution_count": 54,
   "outputs": [
    {
     "name": "stdout",
     "text": [
      "[]\n[]\n[]\n[]\n[]\n[]\n[]\n[]\n[]\n[]\n[]\n[]\n[]\n[]\n[]\n[[42.6, 9.1, 23.2, 24.0, 0.07], [42.6, 9.1, 23.2, 24.0, 0.07], [37.1, 12.6, 26.6, 24.0, 0.07], [37.1, 12.6, 26.6, 24.0, 0.07], [42.5, 9.2, 23.3, 24.0, 0.06], [42.5, 9.2, 23.3, 24.0, 0.06], [47.2, 6.8, 20.9, 24.0, 0.06], [47.2, 6.8, 20.9, 24.0, 0.06], [51.5, 5.1, 19.2, 24.0, 0.06], [51.5, 5.1, 19.2, 24.0, 0.06], [51.4, 5.2, 19.2, 24.0, 0.08], [51.4, 5.2, 19.2, 24.0, 0.08], [50.1, 5.6, 19.7, 24.0, 0.08], [50.1, 5.6, 19.7, 24.0, 0.08], [51.2, 5.2, 19.3, 24.0, 0.08], [51.2, 5.2, 19.3, 24.0, 0.08], [50.7, 5.4, 19.5, 24.0, 0.08], [50.7, 5.4, 19.5, 24.0, 0.08], [52.1, 4.9, 19.0, 24.0, 0.08], [52.1, 4.9, 19.0, 25.0, 0.46], [50.5, 5.5, 19.6, 26.0, 0.54], [50.5, 5.5, 19.6, 26.0, 0.54], [44.7, 8.0, 22.1, 26.0, 0.54], [44.7, 8.0, 22.1, 26.0, 0.54], [41.6, 9.7, 23.8, 26.0, 0.54], [41.6, 9.7, 23.8, 26.0, 0.54], [46.1, 7.4, 21.5, 26.0, 0.54], [46.1, 7.4, 21.5, 26.0, 0.54], [47.4, 6.8, 20.9, 26.0, 0.54], [47.4, 6.8, 20.9, 26.0, 0.54], [48.8, 6.2, 20.3, 26.0, 0.54], [48.8, 6.2, 20.3, 27.0, 0.21], [49.5, 5.9, 20.0, 27.0, 0.21], [49.5, 5.9, 20.0, 27.0, 0.21], [50.0, 5.7, 19.8, 27.0, 0.21], [50.0, 5.7, 19.8, 27.0, 0.21], [50.1, 5.6, 19.7, 27.0, 0.21], [50.1, 5.6, 19.7, 27.0, 0.21], [50.2, 5.6, 19.7, 27.0, 0.21], [50.2, 5.6, 19.7, 27.0, 0.21], [52.3, 4.8, 18.9, 27.0, 0.21], [52.3, 4.8, 18.9, 27.0, 0.21]]\n[]\n[]\n[]\n[[56.4, 3.4, 17.5, 25.0, 0.07], [56.4, 3.4, 17.5, 25.0, 0.07], [57.8, 3.0, 17.1, 25.0, 0.07], [57.8, 3.0, 17.1, 25.0, 0.07], [59.5, 2.5, 16.6, 25.0, 0.07], [59.5, 2.5, 16.6, 25.0, 0.07], [61.7, 1.9, 16.0, 25.0, 0.07], [61.7, 1.9, 16.0, 25.0, 0.07], [61.0, 2.1, 16.2, 25.0, 0.07], [61.0, 2.1, 16.2, 25.0, 0.07], [59.6, 2.5, 16.6, 25.0, 0.07], [59.6, 2.5, 16.6, 25.0, 0.07], [60.2, 2.3, 16.4, 25.0, 0.07], [60.2, 2.3, 16.4, 25.0, 0.07], [60.2, 2.3, 16.4, 25.0, 0.07], [61.8, 1.9, 16.0, 25.0, 0.07], [62.7, 1.7, 15.8, 25.0, 0.07], [62.7, 1.7, 15.8, 25.0, 0.07], [61.4, 2.0, 16.1, 25.0, 0.07], [61.4, 2.0, 16.1, 25.0, 0.07], [57.2, 3.2, 17.3, 25.0, 0.07], [57.2, 3.2, 17.3, 25.0, 0.07], [54.5, 4.1, 18.2, 25.0, 0.07], [54.5, 4.1, 18.2, 25.0, 0.07], [55.2, 3.8, 17.9, 24.0, 0.07], [55.2, 3.8, 17.9, 24.0, 0.07], [56.9, 3.3, 17.4, 24.0, 0.07], [56.9, 3.3, 17.4, 24.0, 0.07], [59.1, 2.6, 16.7, 24.0, 0.07], [59.1, 2.6, 16.7, 24.0, 0.07], [56.7, 3.4, 17.4, 24.0, 0.07], [56.7, 3.4, 17.4, 24.0, 0.07], [56.3, 3.5, 17.6, 24.0, 0.06], [56.3, 3.5, 17.6, 24.0, 0.06], [59.3, 2.6, 16.7, 24.0, 0.06], [59.3, 2.6, 16.7, 24.0, 0.06], [60.2, 2.3, 16.4, 24.0, 0.06], [60.2, 2.3, 16.4, 24.0, 0.06], [61.4, 2.0, 16.1, 24.0, 0.05], [61.4, 2.0, 16.1, 24.0, 0.05], [63.5, 1.5, 15.6, 24.0, 0.05], [63.5, 1.5, 15.6, 24.0, 0.05], [62.9, 1.6, 15.7, 24.0, 0.05], [62.9, 1.6, 15.7, 24.0, 0.05], [63.3, 1.5, 15.6, 24.0, 0.05], [63.3, 1.5, 15.6, 24.0, 0.05], [62.9, 1.6, 15.7, 24.0, 0.05], [62.9, 1.6, 15.7, 24.0, 0.05], [64.1, 1.3, 15.4, 24.0, 0.05], [64.1, 1.3, 15.4, 24.0, 0.05], [62.9, 1.6, 15.7, 24.0, 0.05], [62.9, 1.6, 15.7, 24.0, 0.05], [63.0, 1.6, 15.7, 24.0, 0.05], [63.0, 1.6, 15.7, 24.0, 0.05], [63.1, 1.6, 15.7, 24.0, 0.05], [63.1, 1.6, 15.7, 24.0, 0.05], [61.7, 1.9, 16.0, 24.0, 0.05], [61.7, 1.9, 16.0, 24.0, 0.05], [60.3, 2.3, 16.4, 24.0, 0.05], [60.3, 2.3, 16.4, 24.0, 0.05], [57.9, 3.0, 17.1, 24.0, 0.05], [57.9, 3.0, 17.1, 24.0, 0.05], [55.7, 3.7, 17.7, 24.0, 0.08], [55.7, 3.7, 17.7, 24.0, 0.08], [54.5, 4.1, 18.2, 25.0, 0.46], [54.5, 4.1, 18.2, 25.0, 0.46], [58.4, 2.8, 16.9, 25.0, 0.46], [58.4, 2.8, 16.9, 25.0, 0.46], [61.1, 2.1, 16.2, 25.0, 0.46], [61.1, 2.1, 16.2, 25.0, 0.46], [59.8, 2.4, 16.5, 25.0, 0.46], [59.8, 2.4, 16.5, 25.0, 0.46], [59.9, 2.4, 16.5, 25.0, 0.46], [59.9, 2.4, 16.5, 25.0, 0.46], [59.2, 2.6, 16.7, 25.0, 0.46], [59.2, 2.6, 16.7, 26.0, 0.49], [60.5, 2.3, 16.3, 26.0, 0.49], [60.5, 2.3, 16.3, 26.0, 0.49], [60.4, 2.3, 16.4, 26.0, 0.49], [60.4, 2.3, 16.4, 26.0, 0.49], [58.6, 2.8, 16.9, 26.0, 0.49], [58.6, 2.8, 16.9, 26.0, 0.49], [59.2, 2.6, 16.7, 26.0, 0.49], [59.2, 2.6, 16.7, 26.0, 0.49], [58.1, 2.9, 17.0, 26.0, 0.49], [58.1, 2.9, 17.0, 26.0, 0.49], [55.4, 3.8, 17.8, 26.0, 0.49], [55.4, 3.8, 17.8, 26.0, 0.54], [57.9, 3.0, 17.1, 27.0, 0.21], [57.9, 3.0, 17.1, 27.0, 0.16], [62.4, 1.8, 15.9, 27.0, 0.16], [62.4, 1.8, 15.9, 27.0, 0.16], [60.5, 2.2, 16.3, 27.0, 0.16], [60.5, 2.2, 16.3, 27.0, 0.16], [60.5, 2.2, 16.3, 27.0, 0.16], [60.5, 2.2, 16.3, 27.0, 0.16], [59.0, 2.7, 16.8, 27.0, 0.16], [59.0, 2.7, 16.8, 27.0, 0.16], [59.9, 2.4, 16.5, 27.0, 0.16], [59.9, 2.4, 16.5, 27.0, 0.16], [60.2, 2.3, 16.4, 27.0, 0.16], [60.2, 2.3, 16.4, 27.0, 0.18], [59.9, 2.4, 16.5, 27.0, 0.18], [59.9, 2.4, 16.5, 27.0, 0.18], [59.6, 2.5, 16.6, 27.0, 0.18], [59.6, 2.5, 16.6, 27.0, 0.18], [59.2, 2.6, 16.7, 27.0, 0.18], [60.9, 2.2, 16.2, 27.0, 0.18]]\n[]\n[]\n[]\n[]\n[]\n[]\n[]\n[]\n[]\n[]\n[]\n[]\n"
     ],
     "output_type": "stream"
    },
    {
     "name": "stderr",
     "text": [
      "D:\\Anaconda3\\Lib\\site-packages\\ipykernel_launcher.py:61: FutureWarning: The 'get_values' method is deprecated and will be removed in a future version. Use '.values' or 'np.asarray(..)' instead.\n"
     ],
     "output_type": "stream"
    }
   ],
   "source": [],
   "metadata": {
    "collapsed": false,
    "pycharm": {
     "name": "#%%\n",
     "is_executing": false
    }
   }
  },
  {
   "cell_type": "code",
   "execution_count": 35,
   "outputs": [
    {
     "name": "stdout",
     "text": [
      "[]\n[]\n[]\n[]\n[]\n[]\n[]\n[]\n[]\n[]\n[]\n[]\n[]\n([57.2, 3.2, 17.3, 25.0, 0.05], 13, -2.3999999999999995, [50.1, 5.6, 19.7, 24.0, 0.08])\n[]\n([57.2, 3.2, 17.3, 25.0, 0.05], 15, -0.19999999999999973, [56.4, 3.4, 17.5, 25.0, 0.07])\n[]\n([57.2, 3.2, 17.3, 25.0, 0.05], 17, 1.6, [63.1, 1.6, 15.7, 24.0, 0.05])\n[]\n([57.2, 3.2, 17.3, 25.0, 0.05], 19, 0.7000000000000002, [59.6, 2.5, 16.6, 27.0, 0.18])\n[]\n[]\n[]\n[]\n[]\n[]\n[]\n[]\n[]\n[]\n[]\n([57.2, 3.2, 17.3, 25.0, 0.05], 31, 0.0, [57.2, 3.2, 17.3, 25.0, 0.07])\n"
     ],
     "output_type": "stream"
    },
    {
     "name": "stderr",
     "text": [
      "D:\\Anaconda3\\Lib\\site-packages\\ipykernel_launcher.py:60: FutureWarning: The 'get_values' method is deprecated and will be removed in a future version. Use '.values' or 'np.asarray(..)' instead.\n"
     ],
     "output_type": "stream"
    }
   ],
   "source": [
    "index_list = [2,5]\n",
    "val_list = [1,2,3,4,5,6,7,8]\n",
    "\n",
    "max_index = index_list[0]\n",
    "for index in index_list:\n",
    "    max_index = index if val_list[index] > val_list[max_index] else max_index\n",
    "\n",
    "\n",
    "\n",
    "\n"
   ],
   "metadata": {
    "collapsed": false,
    "pycharm": {
     "name": "#%%\n",
     "is_executing": false
    }
   }
  },
  {
   "cell_type": "code",
   "execution_count": 33,
   "outputs": [
    {
     "data": {
      "text/plain": "[61.3, 2.0, 16.1, 21.0, 0.07]"
     },
     "metadata": {},
     "output_type": "execute_result",
     "execution_count": 33
    }
   ],
   "source": [],
   "metadata": {
    "collapsed": false,
    "pycharm": {
     "name": "#%%\n",
     "is_executing": false
    }
   }
  }
 ],
 "metadata": {
  "language_info": {
   "codemirror_mode": {
    "name": "ipython",
    "version": 2
   },
   "file_extension": ".py",
   "mimetype": "text/x-python",
   "name": "python",
   "nbconvert_exporter": "python",
   "pygments_lexer": "ipython2",
   "version": "2.7.6"
  },
  "kernelspec": {
   "name": "python3",
   "language": "python",
   "display_name": "Python 3"
  },
  "pycharm": {
   "stem_cell": {
    "cell_type": "raw",
    "source": [],
    "metadata": {
     "collapsed": false
    }
   }
  }
 },
 "nbformat": 4,
 "nbformat_minor": 0
}