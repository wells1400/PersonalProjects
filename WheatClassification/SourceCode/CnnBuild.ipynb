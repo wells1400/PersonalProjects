{
 "cells": [
  {
   "cell_type": "code",
   "execution_count": 1,
   "metadata": {
    "pycharm": {
     "is_executing": false
    }
   },
   "outputs": [],
   "source": [
    "import os\n",
    "import cv2\n",
    "import random\n",
    "import numpy as np\n",
    "import tensorflow as tf\n",
    "import matplotlib.pyplot as plt\n",
    "from tensorflow import keras\n",
    "from OfficialWork.SIOA.WheatClassification.SourceCode.DataInitialize import DataInitialize\n",
    "#from DataInitialize import DataInitialize"
   ]
  },
  {
   "cell_type": "code",
   "execution_count": 2,
   "metadata": {
    "pycharm": {
     "is_executing": false,
     "name": "#%%\n"
    }
   },
   "outputs": [],
   "source": [
    "data_initializer = DataInitialize(root_path=r'E:\\OfficialWorkRemote\\OfficialWork\\SIOA\\WheatClassification\\SourceData',\n",
    "                           train_test_rate=0.6,reshape_size=(128, 640), mode='train')"
   ]
  },
  {
   "cell_type": "code",
   "execution_count": 3,
   "metadata": {
    "pycharm": {
     "is_executing": false,
     "name": "#%%\n"
    }
   },
   "outputs": [],
   "source": [
    "def weight_variable(shape):\n",
    "    initial = tf.truncated_normal(shape, stddev=0.1)\n",
    "    return tf.Variable(initial)\n",
    "\n",
    "def bias_variable(shape):\n",
    "    initial = tf.constant(1.0, shape=shape)\n",
    "    return tf.Variable(initial)\n",
    "\n",
    "def conv2d(x, W, stride_length=1,padding='VALID'):\n",
    "    return tf.nn.conv2d(x, W, strides=[1, stride_length, stride_length, 1], padding=padding)\n",
    "\n",
    "def max_pool_2x2(x,pool_size=2,stride_length=2,padding='VALID'):\n",
    "    return tf.nn.max_pool(x, ksize=[1, pool_size, pool_size, 1],\n",
    "                          strides=[1, stride_length, stride_length, 1], padding=padding)"
   ]
  },
  {
   "cell_type": "code",
   "execution_count": 4,
   "metadata": {
    "pycharm": {
     "is_executing": false,
     "name": "#%%\n"
    }
   },
   "outputs": [],
   "source": [
    "def cnn_build(x_image=tf.placeholder('float', shape=[None, 640,128,1]),input_shape=(640,128)):\n",
    "    # 第一层卷积\n",
    "    filter_conv1 = weight_variable([9, 9, 1, 16])\n",
    "    bias_conv1 = bias_variable([16])\n",
    "    h_conv1 = tf.nn.relu(conv2d(x_image, filter_conv1) + bias_conv1) \n",
    "    # 池化\n",
    "    h_pool1 = max_pool_2x2(h_conv1) # (?, 316, 60, 16)\n",
    "    # 第二层卷积\n",
    "    filter_conv2 = weight_variable([9, 9, 16, 32])\n",
    "    bias_conv2 = bias_variable([32])\n",
    "    h_conv2 = tf.nn.relu(conv2d(h_pool1, filter_conv2) + bias_conv2) # (?,307, 52, 32)\n",
    "    # 池化\n",
    "    h_pool2 = max_pool_2x2(h_conv2) # (?, 154, 26, 32)\n",
    "    # 第三层卷积\n",
    "    filter_conv3 = weight_variable([5, 5, 32, 64])\n",
    "    bias_conv3 = bias_variable([64])\n",
    "    h_conv3 = tf.nn.relu(conv2d(h_pool2, filter_conv3) + bias_conv3) # (?, 150, 22, 64)\n",
    "    # 池化\n",
    "    h_pool3 = max_pool_2x2(h_conv3)  #  (?, 75, 11, 64)\n",
    "    # 第四层卷积\n",
    "    filter_conv4 = weight_variable([3, 3, 64, 128])\n",
    "    bias_conv4 = bias_variable([128])\n",
    "    h_conv4 = tf.nn.relu(conv2d(h_pool3, filter_conv4) + bias_conv4)  # (?, 73, 9, 128)\n",
    "    # 将第四层卷积层舒展\n",
    "    h_conv4_flat = tf.reshape(h_conv4, [-1, 73*9*128])\n",
    "    # 全连接层1\n",
    "    W_fc1 = weight_variable([73*9*128, 1024])\n",
    "    b_fc1 = bias_variable([1024])\n",
    "    h_fc1 = tf.nn.relu(tf.matmul(h_conv4_flat, W_fc1) + b_fc1)  # (?, 1024)\n",
    "    # 全连接层2\n",
    "    W_fc2 = weight_variable([1024, 512])\n",
    "    b_fc2 = bias_variable([512])\n",
    "    h_fc2=tf.nn.relu(tf.matmul(h_fc1, W_fc2) + b_fc2)  # (?, 512)\n",
    "    return h_fc2"
   ]
  },
  {
   "cell_type": "code",
   "execution_count": 5,
   "metadata": {
    "pycharm": {
     "is_executing": false,
     "name": "#%%\n"
    }
   },
   "outputs": [],
   "source": [
    "# 模型训练\n",
    "def train_model(data_initializer, input_shape=(640,128)):\n",
    "    sess = tf.InteractiveSession()\n",
    "    # 三通道image\n",
    "    x_image_channel1 = tf.placeholder('float', shape=[None, input_shape[0],input_shape[1],1])\n",
    "    x_image_channel2 = tf.placeholder('float', shape=[None, input_shape[0],input_shape[1],1])\n",
    "    x_image_channel3 = tf.placeholder('float', shape=[None, input_shape[0],input_shape[1],1])\n",
    "    # 真实值\n",
    "    y_true = tf.placeholder('float', shape=[None,1])\n",
    "    # 三通道全连接层2输出\n",
    "    h_fc_channe1 = cnn_build(x_image_channel1,input_shape)\n",
    "    h_fc_channe2 = cnn_build(x_image_channel2,input_shape)\n",
    "    h_fc_channe3 = cnn_build(x_image_channel3,input_shape)\n",
    "    # 将三通道的全连接层输出进行fusion\n",
    "    concat_1 = tf.concat([h_fc_channe1, h_fc_channe2],axis=1) # [h_fc_channe1, h_fc_channe2]\n",
    "    concat_2 = tf.concat([concat_1, h_fc_channe3],axis=1)\n",
    "    fc_final = tf.reshape(concat_2, [-1, 512*3])\n",
    "    # dropout 层\n",
    "    keep_prob = tf.placeholder(\"float\")\n",
    "    h_fc1_drop = tf.nn.dropout(fc_final, keep_prob=keep_prob)\n",
    "    # softmax 输出层y_conv\n",
    "    W_fc3 = weight_variable([512*3, 1])\n",
    "    b_fc3 = bias_variable([1])\n",
    "    logits = tf.matmul(h_fc1_drop, W_fc3) + b_fc3\n",
    "    y_conv = tf.nn.sigmoid(tf.matmul(h_fc1_drop, W_fc3) + b_fc3)\n",
    "    # 计算交叉熵\n",
    "    #tf.log(tf.clip_by_value(tf.sigmoid(self.scores),1e-8,1.0)\n",
    "    #cross_entropy = -tf.reduce_sum(y_true*tf.log(tf.clip_by_value(y_conv,1e-10,1.0)))\n",
    "    cross_entropy = tf.reduce_mean(tf.nn.sigmoid_cross_entropy_with_logits(labels=y_true,logits=logits))\n",
    "    \n",
    "    #loss = tf.reduce_mean(tf.clip_by_value(tf.nn.sparse_softmax_cross_entropy_with_logits(labels=tf.arg_max(y_true,1),logits=logits),1e-8,1.0))\n",
    "    #cross_entropy = -tf.reduce_sum(y_true*tf.log(y_conv))\n",
    "    train_step = tf.train.AdamOptimizer(1e-6).minimize(cross_entropy)\n",
    "    #correct_prediction = tf.equal(tf.argmax(y_conv,1), tf.argmax(y_true,1))\n",
    "    correct_prediction = tf.equal(y_conv, y_true)\n",
    "    accuracy = tf.reduce_mean(tf.cast(correct_prediction, \"float\"))\n",
    "    # 训练模型\n",
    "    sess.run(tf.global_variables_initializer())\n",
    "    for i in range(50):\n",
    "        data_initializer.mode = 'train'\n",
    "        train_batch = data_initializer.data_generator(16)\n",
    "        image = train_batch[0]\n",
    "        label = train_batch[1]\n",
    "        feed_dict={x_image_channel1:np.reshape(image[:,0,:,:],[-1,input_shape[0],input_shape[1],1]),\n",
    "                                  x_image_channel2:np.reshape(image[:,1,:,:],[-1,input_shape[0],input_shape[1],1]),\n",
    "                                  x_image_channel3:np.reshape(image[:,2,:,:],[-1,input_shape[0],input_shape[1],1]),\n",
    "                                  y_true: label,\n",
    "                                  keep_prob: 1\n",
    "                                  }\n",
    "        train_step.run(feed_dict=feed_dict)\n",
    "        entropy = cross_entropy.eval(feed_dict=feed_dict)\n",
    "        train_accuracy = accuracy.eval(feed_dict=feed_dict)\n",
    "        #print(y_conv.eval(feed_dict=feed_dict), label)\n",
    "        #print(\"Step:%d, TrainingAccuracy:%g,cross_entropy:%.3f\"%(i, train_accuracy, entropy))\n",
    "        print(\"Step:%d,cross_entropy:%.3f\"%(i, entropy))\n",
    "        data_initializer.mode = 'test'\n",
    "        test_batch = data_initializer.data_generator(40)\n",
    "        image = test_batch[0]\n",
    "        label = test_batch[1]\n",
    "        feed_dict={x_image_channel1:np.reshape(image[:,0,:,:],[-1,input_shape[0],input_shape[1],1]),\n",
    "                                  x_image_channel2:np.reshape(image[:,1,:,:],[-1,input_shape[0],input_shape[1],1]),\n",
    "                                  x_image_channel3:np.reshape(image[:,2,:,:],[-1,input_shape[0],input_shape[1],1]),\n",
    "                                  y_true: label,\n",
    "                                  keep_prob: 1\n",
    "                                  }\n",
    "        print(\"test accuracy %g\"%accuracy.eval(feed_dict=feed_dict))\n",
    "        #print(y_conv.eval(feed_dict=feed_dict),label)"
   ]
  },
  {
   "cell_type": "code",
   "execution_count": null,
   "metadata": {
    "pycharm": {
     "is_executing": true,
     "name": "#%%\n"
    },
    "scrolled": true
   },
   "outputs": [
    {
     "name": "stdout",
     "text": [
      "WARNING:tensorflow:From D:\\Anaconda3\\Lib\\site-packages\\tensorflow\\python\\framework\\op_def_library.py:263: colocate_with (from tensorflow.python.framework.ops) is deprecated and will be removed in a future version.\nInstructions for updating:\nColocations handled automatically by placer.\n",
      "WARNING:tensorflow:From <ipython-input-5-ed017006f6bb>:21: calling dropout (from tensorflow.python.ops.nn_ops) with keep_prob is deprecated and will be removed in a future version.\nInstructions for updating:\nPlease use `rate` instead of `keep_prob`. Rate should be set to `rate = 1 - keep_prob`.\n",
      "Step:0,cross_entropy:13602.506\n",
      "test accuracy 0.5\n",
      "Step:1,cross_entropy:5898.146\n",
      "test accuracy 0.5\n",
      "Step:2,cross_entropy:11815.646\n",
      "test accuracy 0.5\n",
      "Step:3,cross_entropy:5043.835\n",
      "test accuracy 0.525\n",
      "Step:4,cross_entropy:9254.012\n",
      "test accuracy 0.55\n",
      "Step:5,cross_entropy:3607.926\n",
      "test accuracy 0.525\n",
      "Step:6,cross_entropy:2069.832\n",
      "test accuracy 0.575\n",
      "Step:7,cross_entropy:5625.357\n",
      "test accuracy 0.6\n",
      "Step:8,cross_entropy:2954.389\n",
      "test accuracy 0.575\n",
      "Step:9,cross_entropy:1676.529\n",
      "test accuracy 0.6\n",
      "Step:10,cross_entropy:2457.346\n",
      "test accuracy 0.55\n",
      "Step:11,cross_entropy:3187.752\n",
      "test accuracy 0.525\n",
      "Step:12,cross_entropy:1896.606\n",
      "test accuracy 0.475\n",
      "Step:13,cross_entropy:1279.645\n",
      "test accuracy 0.5\n",
      "Step:14,cross_entropy:1713.911\n",
      "test accuracy 0.525\n",
      "Step:15,cross_entropy:200.981\n",
      "test accuracy 0.525\n",
      "Step:16,cross_entropy:2586.712\n",
      "test accuracy 0.6\n",
      "Step:17,cross_entropy:1297.421\n",
      "test accuracy 0.575\n",
      "Step:18,cross_entropy:670.929\n",
      "test accuracy 0.575\n",
      "Step:19,cross_entropy:2605.982\n",
      "test accuracy 0.525\n",
      "Step:20,cross_entropy:725.087\n",
      "test accuracy 0.575\n",
      "Step:21,cross_entropy:598.403\n",
      "test accuracy 0.525\n",
      "Step:22,cross_entropy:793.133\n",
      "test accuracy 0.6\n",
      "Step:23,cross_entropy:218.666\n",
      "test accuracy 0.6\n",
      "Step:24,cross_entropy:0.000\n",
      "test accuracy 0.6\n",
      "Step:25,cross_entropy:0.000\n",
      "test accuracy 0.575\n",
      "Step:26,cross_entropy:515.354\n",
      "test accuracy 0.525\n",
      "Step:27,cross_entropy:0.000\n",
      "test accuracy 0.55\n",
      "Step:28,cross_entropy:0.000\n",
      "test accuracy 0.55\n",
      "Step:29,cross_entropy:194.642\n",
      "test accuracy 0.55\n",
      "Step:30,cross_entropy:293.533\n",
      "test accuracy 0.55\n",
      "Step:31,cross_entropy:394.378\n",
      "test accuracy 0.575\n",
      "Step:32,cross_entropy:386.451\n",
      "test accuracy 0.55\n",
      "Step:33,cross_entropy:53.592\n",
      "test accuracy 0.575\n",
      "Step:34,cross_entropy:0.000\n",
      "test accuracy 0.575\n",
      "Step:35,cross_entropy:0.000\n",
      "test accuracy 0.55\n",
      "Step:36,cross_entropy:36.519\n",
      "test accuracy 0.525\n",
      "Step:37,cross_entropy:504.838\n",
      "test accuracy 0.575\n",
      "Step:38,cross_entropy:287.436\n",
      "test accuracy 0.55\n",
      "Step:39,cross_entropy:0.000\n",
      "test accuracy 0.55\n",
      "Step:40,cross_entropy:78.951\n",
      "test accuracy 0.55\n",
      "Step:41,cross_entropy:693.268\n",
      "test accuracy 0.5\n",
      "Step:42,cross_entropy:570.352\n",
      "test accuracy 0.5\n",
      "Step:43,cross_entropy:32.580\n",
      "test accuracy 0.525\n",
      "Step:44,cross_entropy:0.000\n"
     ],
     "output_type": "stream"
    }
   ],
   "source": [
    "train_model(data_initializer)"
   ]
  },
  {
   "cell_type": "code",
   "execution_count": null,
   "metadata": {},
   "outputs": [],
   "source": []
  },
  {
   "cell_type": "code",
   "execution_count": null,
   "metadata": {},
   "outputs": [],
   "source": []
  }
 ],
 "metadata": {
  "kernelspec": {
   "display_name": "Python 3",
   "language": "python",
   "name": "python3"
  },
  "language_info": {
   "codemirror_mode": {
    "name": "ipython",
    "version": 3
   },
   "file_extension": ".py",
   "mimetype": "text/x-python",
   "name": "python",
   "nbconvert_exporter": "python",
   "pygments_lexer": "ipython3",
   "version": "3.7.3"
  },
  "pycharm": {
   "stem_cell": {
    "cell_type": "raw",
    "source": [],
    "metadata": {
     "collapsed": false
    }
   }
  }
 },
 "nbformat": 4,
 "nbformat_minor": 1
}